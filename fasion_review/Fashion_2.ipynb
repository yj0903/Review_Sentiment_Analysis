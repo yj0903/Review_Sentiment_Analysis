{
 "cells": [
  {
   "cell_type": "code",
   "execution_count": 2,
   "metadata": {},
   "outputs": [],
   "source": [
    "import pandas as pd\n",
    "import numpy as np\n",
    "\n",
    "path = '01. 패션.csv'\n",
    "df = pd.read_csv(path)\n"
   ]
  },
  {
   "cell_type": "code",
   "execution_count": 3,
   "metadata": {},
   "outputs": [
    {
     "data": {
      "text/plain": [
       "Index(['Index', 'RawText', 'Source', 'Domain', 'MainCategory', 'ProductName',\n",
       "       'ReviewScore', 'Syllable', 'Word', 'RDate', 'GeneralPolarity',\n",
       "       'Aspects'],\n",
       "      dtype='object')"
      ]
     },
     "execution_count": 3,
     "metadata": {},
     "output_type": "execute_result"
    }
   ],
   "source": [
    "df.columns.unique()"
   ]
  },
  {
   "cell_type": "code",
   "execution_count": 4,
   "metadata": {},
   "outputs": [
    {
     "data": {
      "text/html": [
       "<div>\n",
       "<style scoped>\n",
       "    .dataframe tbody tr th:only-of-type {\n",
       "        vertical-align: middle;\n",
       "    }\n",
       "\n",
       "    .dataframe tbody tr th {\n",
       "        vertical-align: top;\n",
       "    }\n",
       "\n",
       "    .dataframe thead th {\n",
       "        text-align: right;\n",
       "    }\n",
       "</style>\n",
       "<table border=\"1\" class=\"dataframe\">\n",
       "  <thead>\n",
       "    <tr style=\"text-align: right;\">\n",
       "      <th></th>\n",
       "      <th>Index</th>\n",
       "      <th>RawText</th>\n",
       "      <th>ReviewScore</th>\n",
       "    </tr>\n",
       "  </thead>\n",
       "  <tbody>\n",
       "    <tr>\n",
       "      <th>0</th>\n",
       "      <td>7</td>\n",
       "      <td>가격이 착하고 디자인이 예쁩니다</td>\n",
       "      <td>100</td>\n",
       "    </tr>\n",
       "    <tr>\n",
       "      <th>1</th>\n",
       "      <td>9</td>\n",
       "      <td>싸고  디자인이 예뻐요. . 정말  가성비 가심비 입니다</td>\n",
       "      <td>100</td>\n",
       "    </tr>\n",
       "    <tr>\n",
       "      <th>2</th>\n",
       "      <td>15</td>\n",
       "      <td>편하고  디자인이 예뻐요  가격도  좋아요   시원해요  빨리 마르고  이것만  입게되요</td>\n",
       "      <td>100</td>\n",
       "    </tr>\n",
       "    <tr>\n",
       "      <th>3</th>\n",
       "      <td>17</td>\n",
       "      <td>너무 착한가격에 감사합니다 윈하는 색은 없지만</td>\n",
       "      <td>100</td>\n",
       "    </tr>\n",
       "    <tr>\n",
       "      <th>4</th>\n",
       "      <td>18</td>\n",
       "      <td>가격이  너무 좋아서  블랙 구매했습니다  그런데 소재도  맘에  들어  흰색도  ...</td>\n",
       "      <td>100</td>\n",
       "    </tr>\n",
       "    <tr>\n",
       "      <th>...</th>\n",
       "      <td>...</td>\n",
       "      <td>...</td>\n",
       "      <td>...</td>\n",
       "    </tr>\n",
       "    <tr>\n",
       "      <th>44991</th>\n",
       "      <td>198798</td>\n",
       "      <td>일단 색상이 넘 좋으네요.  첫 커리어가 ㅇㅇㅇ 였는데, 금방 바퀴가 부셔져서 버리...</td>\n",
       "      <td>100</td>\n",
       "    </tr>\n",
       "    <tr>\n",
       "      <th>44992</th>\n",
       "      <td>198799</td>\n",
       "      <td>가격대비 괜찮아요 근데 어깨에 매는 사이즈 끈이 자꾸 빠져서 그냥 손으로 들고 다녔...</td>\n",
       "      <td>100</td>\n",
       "    </tr>\n",
       "    <tr>\n",
       "      <th>44993</th>\n",
       "      <td>198803</td>\n",
       "      <td>20년전에 화물용하나에 이십만원준거 무겁고 바퀴부서지고 이건 가격  너무좋고 견고해...</td>\n",
       "      <td>100</td>\n",
       "    </tr>\n",
       "    <tr>\n",
       "      <th>44994</th>\n",
       "      <td>198805</td>\n",
       "      <td>무늬가 고급스럽고 이쁘네요^^ 여행갈때 5종세트만 있으면 따로 가방 준비할건 없을듯...</td>\n",
       "      <td>100</td>\n",
       "    </tr>\n",
       "    <tr>\n",
       "      <th>44995</th>\n",
       "      <td>198806</td>\n",
       "      <td>빠른 배송, 색상도 좋으네요 4종류 용도에 맞게 사용하기 편리해요</td>\n",
       "      <td>100</td>\n",
       "    </tr>\n",
       "  </tbody>\n",
       "</table>\n",
       "<p>44996 rows × 3 columns</p>\n",
       "</div>"
      ],
      "text/plain": [
       "        Index                                            RawText  ReviewScore\n",
       "0           7                                  가격이 착하고 디자인이 예쁩니다          100\n",
       "1           9                    싸고  디자인이 예뻐요. . 정말  가성비 가심비 입니다          100\n",
       "2          15  편하고  디자인이 예뻐요  가격도  좋아요   시원해요  빨리 마르고  이것만  입게되요          100\n",
       "3          17                          너무 착한가격에 감사합니다 윈하는 색은 없지만          100\n",
       "4          18  가격이  너무 좋아서  블랙 구매했습니다  그런데 소재도  맘에  들어  흰색도  ...          100\n",
       "...       ...                                                ...          ...\n",
       "44991  198798  일단 색상이 넘 좋으네요.  첫 커리어가 ㅇㅇㅇ 였는데, 금방 바퀴가 부셔져서 버리...          100\n",
       "44992  198799  가격대비 괜찮아요 근데 어깨에 매는 사이즈 끈이 자꾸 빠져서 그냥 손으로 들고 다녔...          100\n",
       "44993  198803  20년전에 화물용하나에 이십만원준거 무겁고 바퀴부서지고 이건 가격  너무좋고 견고해...          100\n",
       "44994  198805  무늬가 고급스럽고 이쁘네요^^ 여행갈때 5종세트만 있으면 따로 가방 준비할건 없을듯...          100\n",
       "44995  198806               빠른 배송, 색상도 좋으네요 4종류 용도에 맞게 사용하기 편리해요          100\n",
       "\n",
       "[44996 rows x 3 columns]"
      ]
     },
     "execution_count": 4,
     "metadata": {},
     "output_type": "execute_result"
    }
   ],
   "source": [
    "df_1 = df.copy()\n",
    "df_1 = df_1[['Index', 'RawText', 'ReviewScore']]\n",
    "df_1"
   ]
  },
  {
   "cell_type": "code",
   "execution_count": 47,
   "metadata": {},
   "outputs": [
    {
     "data": {
      "text/html": [
       "<div>\n",
       "<style scoped>\n",
       "    .dataframe tbody tr th:only-of-type {\n",
       "        vertical-align: middle;\n",
       "    }\n",
       "\n",
       "    .dataframe tbody tr th {\n",
       "        vertical-align: top;\n",
       "    }\n",
       "\n",
       "    .dataframe thead th {\n",
       "        text-align: right;\n",
       "    }\n",
       "</style>\n",
       "<table border=\"1\" class=\"dataframe\">\n",
       "  <thead>\n",
       "    <tr style=\"text-align: right;\">\n",
       "      <th></th>\n",
       "      <th>Index</th>\n",
       "      <th>RawText</th>\n",
       "      <th>ReviewScore</th>\n",
       "      <th>label</th>\n",
       "    </tr>\n",
       "  </thead>\n",
       "  <tbody>\n",
       "    <tr>\n",
       "      <th>0</th>\n",
       "      <td>7</td>\n",
       "      <td>가격이 착하고 디자인이 예쁩니다</td>\n",
       "      <td>100</td>\n",
       "      <td>1.0</td>\n",
       "    </tr>\n",
       "    <tr>\n",
       "      <th>1</th>\n",
       "      <td>9</td>\n",
       "      <td>싸고  디자인이 예뻐요. . 정말  가성비 가심비 입니다</td>\n",
       "      <td>100</td>\n",
       "      <td>1.0</td>\n",
       "    </tr>\n",
       "    <tr>\n",
       "      <th>2</th>\n",
       "      <td>15</td>\n",
       "      <td>편하고  디자인이 예뻐요  가격도  좋아요   시원해요  빨리 마르고  이것만  입게되요</td>\n",
       "      <td>100</td>\n",
       "      <td>1.0</td>\n",
       "    </tr>\n",
       "    <tr>\n",
       "      <th>3</th>\n",
       "      <td>17</td>\n",
       "      <td>너무 착한가격에 감사합니다 윈하는 색은 없지만</td>\n",
       "      <td>100</td>\n",
       "      <td>1.0</td>\n",
       "    </tr>\n",
       "    <tr>\n",
       "      <th>4</th>\n",
       "      <td>18</td>\n",
       "      <td>가격이  너무 좋아서  블랙 구매했습니다  그런데 소재도  맘에  들어  흰색도  ...</td>\n",
       "      <td>100</td>\n",
       "      <td>1.0</td>\n",
       "    </tr>\n",
       "    <tr>\n",
       "      <th>...</th>\n",
       "      <td>...</td>\n",
       "      <td>...</td>\n",
       "      <td>...</td>\n",
       "      <td>...</td>\n",
       "    </tr>\n",
       "    <tr>\n",
       "      <th>44991</th>\n",
       "      <td>198798</td>\n",
       "      <td>일단 색상이 넘 좋으네요.  첫 커리어가 ㅇㅇㅇ 였는데, 금방 바퀴가 부셔져서 버리...</td>\n",
       "      <td>100</td>\n",
       "      <td>1.0</td>\n",
       "    </tr>\n",
       "    <tr>\n",
       "      <th>44992</th>\n",
       "      <td>198799</td>\n",
       "      <td>가격대비 괜찮아요 근데 어깨에 매는 사이즈 끈이 자꾸 빠져서 그냥 손으로 들고 다녔...</td>\n",
       "      <td>100</td>\n",
       "      <td>1.0</td>\n",
       "    </tr>\n",
       "    <tr>\n",
       "      <th>44993</th>\n",
       "      <td>198803</td>\n",
       "      <td>20년전에 화물용하나에 이십만원준거 무겁고 바퀴부서지고 이건 가격  너무좋고 견고해...</td>\n",
       "      <td>100</td>\n",
       "      <td>1.0</td>\n",
       "    </tr>\n",
       "    <tr>\n",
       "      <th>44994</th>\n",
       "      <td>198805</td>\n",
       "      <td>무늬가 고급스럽고 이쁘네요^^ 여행갈때 5종세트만 있으면 따로 가방 준비할건 없을듯...</td>\n",
       "      <td>100</td>\n",
       "      <td>1.0</td>\n",
       "    </tr>\n",
       "    <tr>\n",
       "      <th>44995</th>\n",
       "      <td>198806</td>\n",
       "      <td>빠른 배송, 색상도 좋으네요 4종류 용도에 맞게 사용하기 편리해요</td>\n",
       "      <td>100</td>\n",
       "      <td>1.0</td>\n",
       "    </tr>\n",
       "  </tbody>\n",
       "</table>\n",
       "<p>44996 rows × 4 columns</p>\n",
       "</div>"
      ],
      "text/plain": [
       "        Index                                            RawText  ReviewScore  \\\n",
       "0           7                                  가격이 착하고 디자인이 예쁩니다          100   \n",
       "1           9                    싸고  디자인이 예뻐요. . 정말  가성비 가심비 입니다          100   \n",
       "2          15  편하고  디자인이 예뻐요  가격도  좋아요   시원해요  빨리 마르고  이것만  입게되요          100   \n",
       "3          17                          너무 착한가격에 감사합니다 윈하는 색은 없지만          100   \n",
       "4          18  가격이  너무 좋아서  블랙 구매했습니다  그런데 소재도  맘에  들어  흰색도  ...          100   \n",
       "...       ...                                                ...          ...   \n",
       "44991  198798  일단 색상이 넘 좋으네요.  첫 커리어가 ㅇㅇㅇ 였는데, 금방 바퀴가 부셔져서 버리...          100   \n",
       "44992  198799  가격대비 괜찮아요 근데 어깨에 매는 사이즈 끈이 자꾸 빠져서 그냥 손으로 들고 다녔...          100   \n",
       "44993  198803  20년전에 화물용하나에 이십만원준거 무겁고 바퀴부서지고 이건 가격  너무좋고 견고해...          100   \n",
       "44994  198805  무늬가 고급스럽고 이쁘네요^^ 여행갈때 5종세트만 있으면 따로 가방 준비할건 없을듯...          100   \n",
       "44995  198806               빠른 배송, 색상도 좋으네요 4종류 용도에 맞게 사용하기 편리해요          100   \n",
       "\n",
       "       label  \n",
       "0        1.0  \n",
       "1        1.0  \n",
       "2        1.0  \n",
       "3        1.0  \n",
       "4        1.0  \n",
       "...      ...  \n",
       "44991    1.0  \n",
       "44992    1.0  \n",
       "44993    1.0  \n",
       "44994    1.0  \n",
       "44995    1.0  \n",
       "\n",
       "[44996 rows x 4 columns]"
      ]
     },
     "execution_count": 47,
     "metadata": {},
     "output_type": "execute_result"
    }
   ],
   "source": [
    "df_1['label'] = [1. if x >= 70 else 0. for x in df_1['ReviewScore']]  #스코어 70이상은 긍정 라벨을 붙임\n",
    "df_1"
   ]
  },
  {
   "cell_type": "code",
   "execution_count": 48,
   "metadata": {},
   "outputs": [
    {
     "data": {
      "text/plain": [
       "(44996, 11, 2)"
      ]
     },
     "execution_count": 48,
     "metadata": {},
     "output_type": "execute_result"
    }
   ],
   "source": [
    "#리뷰에 중복데이터가 있는지 확인 nunique()\n",
    "df_1['RawText'].nunique(), df_1['ReviewScore'].nunique(), df_1['label'].nunique()"
   ]
  },
  {
   "cell_type": "code",
   "execution_count": 49,
   "metadata": {},
   "outputs": [
    {
     "name": "stdout",
     "output_type": "stream",
     "text": [
      "<class 'pandas.core.frame.DataFrame'>\n",
      "RangeIndex: 44996 entries, 0 to 44995\n",
      "Data columns (total 4 columns):\n",
      " #   Column       Non-Null Count  Dtype  \n",
      "---  ------       --------------  -----  \n",
      " 0   Index        44996 non-null  int64  \n",
      " 1   RawText      44996 non-null  object \n",
      " 2   ReviewScore  44996 non-null  int64  \n",
      " 3   label        44996 non-null  float64\n",
      "dtypes: float64(1), int64(2), object(1)\n",
      "memory usage: 1.4+ MB\n"
     ]
    }
   ],
   "source": [
    "df_1.info() #중복 데이터가 없고, null값도 없음"
   ]
  },
  {
   "cell_type": "code",
   "execution_count": 50,
   "metadata": {},
   "outputs": [],
   "source": [
    "#훈련과 테스트 데이터를 3:1로 분리\n",
    "from sklearn.model_selection import train_test_split\n",
    "\n",
    "X = df_1.drop(['label'], axis=1)\n",
    "y = df_1['label']\n",
    "\n",
    "X_train, X_test, y_train, y_test = train_test_split(X, y, test_size=0.2, random_state=13)"
   ]
  },
  {
   "cell_type": "code",
   "execution_count": 51,
   "metadata": {},
   "outputs": [
    {
     "data": {
      "text/plain": [
       "<Axes: xlabel='label'>"
      ]
     },
     "execution_count": 51,
     "metadata": {},
     "output_type": "execute_result"
    },
    {
     "data": {
      "image/png": "[encoded data removed]",
      "text/plain": [
       "<Figure size 640x480 with 1 Axes>"
      ]
     },
     "metadata": {},
     "output_type": "display_data"
    }
   ],
   "source": [
    "#레이블 분포 확인\n",
    "y_train.value_counts().plot(kind = 'bar')"
   ]
  },
  {
   "cell_type": "code",
   "execution_count": 52,
   "metadata": {},
   "outputs": [
    {
     "data": {
      "text/plain": [
       "label\n",
       "1.0    30219\n",
       "0.0     5777\n",
       "Name: count, dtype: int64"
      ]
     },
     "execution_count": 52,
     "metadata": {},
     "output_type": "execute_result"
    }
   ],
   "source": [
    "y_train.value_counts() "
   ]
  },
  {
   "cell_type": "code",
   "execution_count": 53,
   "metadata": {},
   "outputs": [
    {
     "data": {
      "text/plain": [
       "Index          35996\n",
       "RawText        35996\n",
       "ReviewScore    35996\n",
       "dtype: int64"
      ]
     },
     "execution_count": 53,
     "metadata": {},
     "output_type": "execute_result"
    }
   ],
   "source": [
    "X_train.count()"
   ]
  },
  {
   "cell_type": "markdown",
   "metadata": {},
   "source": [
    "테스트 데이터를 전처리"
   ]
  },
  {
   "cell_type": "code",
   "execution_count": 57,
   "metadata": {},
   "outputs": [
    {
     "name": "stdout",
     "output_type": "stream",
     "text": [
      "Index          0\n",
      "RawText        0\n",
      "ReviewScore    0\n",
      "dtype: int64\n",
      "Index          0\n",
      "RawText        0\n",
      "ReviewScore    0\n",
      "dtype: int64\n"
     ]
    }
   ],
   "source": [
    "# 한글과 공백을 제외 모두 제거\n",
    "X_test['RawText'] = X_test['RawText'].str.replace(\"[^ㄱ-ㅎㅏ-ㅣ가-힣 ]\",\"\")\n",
    "X_test['RawText'].replace('', np.nan, inplace=True) #제거 후에 공백만 남았다면 null값으로\n",
    "print(X_test.isnull().sum()) #null 값이 있는지 확인\n",
    "\n",
    "X_test['RawText'] = X_test['RawText'].str.replace(\"[^ㄱ-ㅎㅏ-ㅣ가-힣 ]\",\"\")\n",
    "X_test['RawText'].replace('', np.nan, inplace=True) #제거 후에 공백만 남았다면 null값으로\n",
    "print(X_test.isnull().sum()) #null 값이 있는지 확인"
   ]
  },
  {
   "cell_type": "code",
   "execution_count": 58,
   "metadata": {},
   "outputs": [
    {
     "name": "stdout",
     "output_type": "stream",
     "text": [
      "        Index                                            RawText  ReviewScore\n",
      "40931  186817  상붐 퀄리티는 좋으네요. 다른분들이 말씀사신거 처럼 사이즈가 한치수  큰듯 하네요....           80\n",
      "11661   13194  이건 도무지 말도 안되는 가격입니다.그냥 무료로 줬다는 표현까지 쓰내요 주변에서^^...          100\n",
      "29826  190214  사이즈 많이 큽니다 볼도 많이 넓구요 심지어 225랑 230이 크기랑 볼넓이가 똑같...           30\n",
      "25886  121640    여름용이라 굉장히 가볍고 그렇게 불편하진 않아요. 100사이즈인데 약간 큰듯 합니다.          100\n",
      "6355    64747    벤딩이 입기 너무 편하게 잘 되어있어요 출근할때 별생각 없이 입을 수 있어서 좋아요           100\n",
      "...       ...                                                ...          ...\n",
      "5581    63056  편하고 따뜻하고 핏이 예쁘다는 후기랑 기장도 다 다르고 집에서만 입을것 같다는 엇갈...          100\n",
      "30370  839985       너무편해보여서구입했는데정말따뜻하고편안하게잘신었어요 싸이즈는정싸이즈사셔도될것같아요          100\n",
      "10464   90067  10종에 이가격 감동입니다. 상평보고 한사이즈 업했더니 잘 맞아요. 근대 소재가 너...          100\n",
      "911     45611      모델착용샷처럼 종아리통이 좁지않음 줄여입어야함.  사이즈가 2인치 단위라 아쉽네요           80\n",
      "27395  128520  신랑 선물로 샀는데 ㅎㅎ 입으니 편하데요 ㅡ 살짝 스판끼때문에 바지가 헐렁한 느낌도...           80\n",
      "\n",
      "[9000 rows x 3 columns]\n"
     ]
    }
   ],
   "source": [
    "print(X_test)"
   ]
  },
  {
   "cell_type": "markdown",
   "metadata": {},
   "source": [
    "벡터화 진행"
   ]
  },
  {
   "cell_type": "code",
   "execution_count": 59,
   "metadata": {},
   "outputs": [],
   "source": [
    "from sklearn.feature_extraction.text import CountVectorizer\n",
    "from sklearn.naive_bayes import MultinomialNB\n",
    "\n",
    "# 텍스트 데이터를 벡터화\n",
    "vectorizer = CountVectorizer()\n",
    "X_train_vectorized = vectorizer.fit_transform(X_train['RawText'])\n",
    "X_test_vectorized = vectorizer.transform(X_test['RawText'])\n",
    "##Xtrain넣을게 아니라 'RT'컬럼만 넣는 것."
   ]
  },
  {
   "cell_type": "markdown",
   "metadata": {},
   "source": [
    "---"
   ]
  },
  {
   "cell_type": "markdown",
   "metadata": {},
   "source": [
    "나이브 베이즈 사용"
   ]
  },
  {
   "cell_type": "code",
   "execution_count": 60,
   "metadata": {},
   "outputs": [
    {
     "data": {
      "text/html": [
       "<style>#sk-container-id-3 {color: black;}#sk-container-id-3 pre{padding: 0;}#sk-container-id-3 div.sk-toggleable {background-color: white;}#sk-container-id-3 label.sk-toggleable__label {cursor: pointer;display: block;width: 100%;margin-bottom: 0;padding: 0.3em;box-sizing: border-box;text-align: center;}#sk-container-id-3 label.sk-toggleable__label-arrow:before {content: \"▸\";float: left;margin-right: 0.25em;color: #696969;}#sk-container-id-3 label.sk-toggleable__label-arrow:hover:before {color: black;}#sk-container-id-3 div.sk-estimator:hover label.sk-toggleable__label-arrow:before {color: black;}#sk-container-id-3 div.sk-toggleable__content {max-height: 0;max-width: 0;overflow: hidden;text-align: left;background-color: #f0f8ff;}#sk-container-id-3 div.sk-toggleable__content pre {margin: 0.2em;color: black;border-radius: 0.25em;background-color: #f0f8ff;}#sk-container-id-3 input.sk-toggleable__control:checked~div.sk-toggleable__content {max-height: 200px;max-width: 100%;overflow: auto;}#sk-container-id-3 input.sk-toggleable__control:checked~label.sk-toggleable__label-arrow:before {content: \"▾\";}#sk-container-id-3 div.sk-estimator input.sk-toggleable__control:checked~label.sk-toggleable__label {background-color: #d4ebff;}#sk-container-id-3 div.sk-label input.sk-toggleable__control:checked~label.sk-toggleable__label {background-color: #d4ebff;}#sk-container-id-3 input.sk-hidden--visually {border: 0;clip: rect(1px 1px 1px 1px);clip: rect(1px, 1px, 1px, 1px);height: 1px;margin: -1px;overflow: hidden;padding: 0;position: absolute;width: 1px;}#sk-container-id-3 div.sk-estimator {font-family: monospace;background-color: #f0f8ff;border: 1px dotted black;border-radius: 0.25em;box-sizing: border-box;margin-bottom: 0.5em;}#sk-container-id-3 div.sk-estimator:hover {background-color: #d4ebff;}#sk-container-id-3 div.sk-parallel-item::after {content: \"\";width: 100%;border-bottom: 1px solid gray;flex-grow: 1;}#sk-container-id-3 div.sk-label:hover label.sk-toggleable__label {background-color: #d4ebff;}#sk-container-id-3 div.sk-serial::before {content: \"\";position: absolute;border-left: 1px solid gray;box-sizing: border-box;top: 0;bottom: 0;left: 50%;z-index: 0;}#sk-container-id-3 div.sk-serial {display: flex;flex-direction: column;align-items: center;background-color: white;padding-right: 0.2em;padding-left: 0.2em;position: relative;}#sk-container-id-3 div.sk-item {position: relative;z-index: 1;}#sk-container-id-3 div.sk-parallel {display: flex;align-items: stretch;justify-content: center;background-color: white;position: relative;}#sk-container-id-3 div.sk-item::before, #sk-container-id-3 div.sk-parallel-item::before {content: \"\";position: absolute;border-left: 1px solid gray;box-sizing: border-box;top: 0;bottom: 0;left: 50%;z-index: -1;}#sk-container-id-3 div.sk-parallel-item {display: flex;flex-direction: column;z-index: 1;position: relative;background-color: white;}#sk-container-id-3 div.sk-parallel-item:first-child::after {align-self: flex-end;width: 50%;}#sk-container-id-3 div.sk-parallel-item:last-child::after {align-self: flex-start;width: 50%;}#sk-container-id-3 div.sk-parallel-item:only-child::after {width: 0;}#sk-container-id-3 div.sk-dashed-wrapped {border: 1px dashed gray;margin: 0 0.4em 0.5em 0.4em;box-sizing: border-box;padding-bottom: 0.4em;background-color: white;}#sk-container-id-3 div.sk-label label {font-family: monospace;font-weight: bold;display: inline-block;line-height: 1.2em;}#sk-container-id-3 div.sk-label-container {text-align: center;}#sk-container-id-3 div.sk-container {/* jupyter's `normalize.less` sets `[hidden] { display: none; }` but bootstrap.min.css set `[hidden] { display: none !important; }` so we also need the `!important` here to be able to override the default hidden behavior on the sphinx rendered scikit-learn.org. See: https://github.com/scikit-learn/scikit-learn/issues/21755 */display: inline-block !important;position: relative;}#sk-container-id-3 div.sk-text-repr-fallback {display: none;}</style><div id=\"sk-container-id-3\" class=\"sk-top-container\"><div class=\"sk-text-repr-fallback\"><pre>MultinomialNB()</pre><b>In a Jupyter environment, please rerun this cell to show the HTML representation or trust the notebook. <br />On GitHub, the HTML representation is unable to render, please try loading this page with nbviewer.org.</b></div><div class=\"sk-container\" hidden><div class=\"sk-item\"><div class=\"sk-estimator sk-toggleable\"><input class=\"sk-toggleable__control sk-hidden--visually\" id=\"sk-estimator-id-3\" type=\"checkbox\" checked><label for=\"sk-estimator-id-3\" class=\"sk-toggleable__label sk-toggleable__label-arrow\">MultinomialNB</label><div class=\"sk-toggleable__content\"><pre>MultinomialNB()</pre></div></div></div></div></div>"
      ],
      "text/plain": [
       "MultinomialNB()"
      ]
     },
     "execution_count": 60,
     "metadata": {},
     "output_type": "execute_result"
    }
   ],
   "source": [
    "model = MultinomialNB()\n",
    "model.fit(X_train_vectorized, y_train)"
   ]
  },
  {
   "cell_type": "code",
   "execution_count": 61,
   "metadata": {},
   "outputs": [],
   "source": [
    "# 테스트 데이터에 대한 예측\n",
    "y_pred = model.predict(X_test_vectorized)"
   ]
  },
  {
   "cell_type": "code",
   "execution_count": 62,
   "metadata": {},
   "outputs": [
    {
     "name": "stdout",
     "output_type": "stream",
     "text": [
      "1.0    8389\n",
      "0.0     611\n",
      "Name: count, dtype: int64\n"
     ]
    }
   ],
   "source": [
    "import pandas as pd\n",
    "\n",
    "y_pred_series = pd.Series(y_pred)\n",
    "\n",
    "value_counts = y_pred_series.value_counts()\n",
    "\n",
    "print(value_counts)"
   ]
  },
  {
   "cell_type": "code",
   "execution_count": 63,
   "metadata": {},
   "outputs": [
    {
     "name": "stdout",
     "output_type": "stream",
     "text": [
      "Accuracy: 0.8745555555555555\n"
     ]
    }
   ],
   "source": [
    "from sklearn.metrics import accuracy_score\n",
    "\n",
    "# 정확도 계산\n",
    "accuracy = accuracy_score(y_test, y_pred)\n",
    "print(f'Accuracy: {accuracy}')\n"
   ]
  },
  {
   "cell_type": "markdown",
   "metadata": {},
   "source": [
    "긍부정 리뷰 각각 중요한 단어들 10개"
   ]
  },
  {
   "cell_type": "code",
   "execution_count": 64,
   "metadata": {},
   "outputs": [
    {
     "name": "stdout",
     "output_type": "stream",
     "text": [
      "Top 10 Most Informative Features for Positive Class:\n",
      "['좋아요' '너무' '편하고' '같아요' '맘에' '좋고' '가볍고' '조금' '가격대비' '좋네요']\n",
      "Top 10 Most Informative Features for Negative Class:\n",
      "['너무' '그냥' '사이즈가' '품질이' '많이' '같아요' '조금' '사이즈' '신고' '생각보다']\n"
     ]
    }
   ],
   "source": [
    "import numpy as np\n",
    "\n",
    "# 클래스별 특성의 로그 확률 가져오기 \n",
    "# #특성의 로그확률은 각 특성이 특정 클래스에 속할 확률. 높을수록 결정적이니까, 그만큼 중요한 특성\n",
    "log_prob = model.feature_log_prob_\n",
    "\n",
    "# 특성 이름 가져오기\n",
    "feature_names = np.array(vectorizer.get_feature_names_out())\n",
    "\n",
    "# 긍정 클래스 가장 중요한 특성 10개 출력\n",
    "print(\"Top 10 Most Informative Features for Positive Class:\")\n",
    "positive_features = feature_names[np.argsort(log_prob[1])[::-1][:10]] #역순으로 해서 descending 정렬\n",
    "positive_features_log = np.argsort(log_prob[1])[::-1][:10]\n",
    "print(positive_features)\n",
    "\n",
    "\n",
    "# 부정 클래스 가장 중요한 특성 10개 출력\n",
    "print(\"Top 10 Most Informative Features for Negative Class:\")\n",
    "negative_features = feature_names[np.argsort(log_prob[0])[::-1][:10]]\n",
    "print(negative_features)"
   ]
  },
  {
   "cell_type": "code",
   "execution_count": 20,
   "metadata": {},
   "outputs": [
    {
     "name": "stdout",
     "output_type": "stream",
     "text": [
      "Average Length of Positive Reviews: 15.531130103458313\n",
      "Average Length of Negative Reviews: 19.367763431903374\n"
     ]
    }
   ],
   "source": [
    "import nltk\n",
    "\n",
    "positive_reviews = df_1.loc[df_1['ReviewScore'] >= 70, 'RawText']\n",
    "negative_reviews = df_1.loc[df_1['ReviewScore'] < 70, 'RawText']\n",
    "\n",
    "# 토큰화 후 단어 수 계산\n",
    "positive_lengths = [len(nltk.word_tokenize(review)) for review in positive_reviews]\n",
    "negative_lengths = [len(nltk.word_tokenize(review)) for review in negative_reviews]\n",
    "\n",
    "# 평균 길이 계산\n",
    "average_positive_length = sum(positive_lengths) / len(positive_lengths)\n",
    "average_negative_length = sum(negative_lengths) / len(negative_lengths)\n",
    "\n",
    "print(\"Average Length of Positive Reviews:\", average_positive_length)\n",
    "print(\"Average Length of Negative Reviews:\", average_negative_length)"
   ]
  },
  {
   "cell_type": "markdown",
   "metadata": {},
   "source": [
    "-----"
   ]
  },
  {
   "cell_type": "markdown",
   "metadata": {},
   "source": [
    "문장 하나로 테스트"
   ]
  },
  {
   "cell_type": "code",
   "execution_count": 40,
   "metadata": {},
   "outputs": [
    {
     "ename": "ValueError",
     "evalue": "X has 4 features, but MultinomialNB is expecting 104870 features as input.",
     "output_type": "error",
     "traceback": [
      "\u001b[1;31m---------------------------------------------------------------------------\u001b[0m",
      "\u001b[1;31mValueError\u001b[0m                                Traceback (most recent call last)",
      "\u001b[1;32mc:\\Users\\82108\\Documents\\ds_study\\MLproject\\Fashion_2.ipynb Cell 25\u001b[0m line \u001b[0;36m3\n\u001b[0;32m      <a href='vscode-notebook-cell:/c%3A/Users/82108/Documents/ds_study/MLproject/Fashion_2.ipynb#X31sZmlsZQ%3D%3D?line=0'>1</a>\u001b[0m new_words \u001b[39m=\u001b[39m \u001b[39m'\u001b[39m\u001b[39m진짜 별로다 최악 사이즈 큼\u001b[39m\u001b[39m'\u001b[39m\n\u001b[0;32m      <a href='vscode-notebook-cell:/c%3A/Users/82108/Documents/ds_study/MLproject/Fashion_2.ipynb#X31sZmlsZQ%3D%3D?line=1'>2</a>\u001b[0m new_words_vectorized \u001b[39m=\u001b[39m vectorizer\u001b[39m.\u001b[39mtransform([new_words])\n\u001b[1;32m----> <a href='vscode-notebook-cell:/c%3A/Users/82108/Documents/ds_study/MLproject/Fashion_2.ipynb#X31sZmlsZQ%3D%3D?line=2'>3</a>\u001b[0m y_pred_2 \u001b[39m=\u001b[39m model\u001b[39m.\u001b[39;49mpredict(new_words_vectorized)\n\u001b[0;32m      <a href='vscode-notebook-cell:/c%3A/Users/82108/Documents/ds_study/MLproject/Fashion_2.ipynb#X31sZmlsZQ%3D%3D?line=4'>5</a>\u001b[0m y_pred_2\n",
      "File \u001b[1;32mc:\\Users\\82108\\miniconda3\\envs\\ds_study\\lib\\site-packages\\sklearn\\naive_bayes.py:101\u001b[0m, in \u001b[0;36m_BaseNB.predict\u001b[1;34m(self, X)\u001b[0m\n\u001b[0;32m     87\u001b[0m \u001b[39m\u001b[39m\u001b[39m\"\"\"\u001b[39;00m\n\u001b[0;32m     88\u001b[0m \u001b[39mPerform classification on an array of test vectors X.\u001b[39;00m\n\u001b[0;32m     89\u001b[0m \n\u001b[1;32m   (...)\u001b[0m\n\u001b[0;32m     98\u001b[0m \u001b[39m    Predicted target values for X.\u001b[39;00m\n\u001b[0;32m     99\u001b[0m \u001b[39m\"\"\"\u001b[39;00m\n\u001b[0;32m    100\u001b[0m check_is_fitted(\u001b[39mself\u001b[39m)\n\u001b[1;32m--> 101\u001b[0m X \u001b[39m=\u001b[39m \u001b[39mself\u001b[39;49m\u001b[39m.\u001b[39;49m_check_X(X)\n\u001b[0;32m    102\u001b[0m jll \u001b[39m=\u001b[39m \u001b[39mself\u001b[39m\u001b[39m.\u001b[39m_joint_log_likelihood(X)\n\u001b[0;32m    103\u001b[0m \u001b[39mreturn\u001b[39;00m \u001b[39mself\u001b[39m\u001b[39m.\u001b[39mclasses_[np\u001b[39m.\u001b[39margmax(jll, axis\u001b[39m=\u001b[39m\u001b[39m1\u001b[39m)]\n",
      "File \u001b[1;32mc:\\Users\\82108\\miniconda3\\envs\\ds_study\\lib\\site-packages\\sklearn\\naive_bayes.py:574\u001b[0m, in \u001b[0;36m_BaseDiscreteNB._check_X\u001b[1;34m(self, X)\u001b[0m\n\u001b[0;32m    572\u001b[0m \u001b[39mdef\u001b[39;00m \u001b[39m_check_X\u001b[39m(\u001b[39mself\u001b[39m, X):\n\u001b[0;32m    573\u001b[0m \u001b[39m    \u001b[39m\u001b[39m\"\"\"Validate X, used only in predict* methods.\"\"\"\u001b[39;00m\n\u001b[1;32m--> 574\u001b[0m     \u001b[39mreturn\u001b[39;00m \u001b[39mself\u001b[39;49m\u001b[39m.\u001b[39;49m_validate_data(X, accept_sparse\u001b[39m=\u001b[39;49m\u001b[39m\"\u001b[39;49m\u001b[39mcsr\u001b[39;49m\u001b[39m\"\u001b[39;49m, reset\u001b[39m=\u001b[39;49m\u001b[39mFalse\u001b[39;49;00m)\n",
      "File \u001b[1;32mc:\\Users\\82108\\miniconda3\\envs\\ds_study\\lib\\site-packages\\sklearn\\base.py:625\u001b[0m, in \u001b[0;36mBaseEstimator._validate_data\u001b[1;34m(self, X, y, reset, validate_separately, cast_to_ndarray, **check_params)\u001b[0m\n\u001b[0;32m    622\u001b[0m     out \u001b[39m=\u001b[39m X, y\n\u001b[0;32m    624\u001b[0m \u001b[39mif\u001b[39;00m \u001b[39mnot\u001b[39;00m no_val_X \u001b[39mand\u001b[39;00m check_params\u001b[39m.\u001b[39mget(\u001b[39m\"\u001b[39m\u001b[39mensure_2d\u001b[39m\u001b[39m\"\u001b[39m, \u001b[39mTrue\u001b[39;00m):\n\u001b[1;32m--> 625\u001b[0m     \u001b[39mself\u001b[39;49m\u001b[39m.\u001b[39;49m_check_n_features(X, reset\u001b[39m=\u001b[39;49mreset)\n\u001b[0;32m    627\u001b[0m \u001b[39mreturn\u001b[39;00m out\n",
      "File \u001b[1;32mc:\\Users\\82108\\miniconda3\\envs\\ds_study\\lib\\site-packages\\sklearn\\base.py:414\u001b[0m, in \u001b[0;36mBaseEstimator._check_n_features\u001b[1;34m(self, X, reset)\u001b[0m\n\u001b[0;32m    411\u001b[0m     \u001b[39mreturn\u001b[39;00m\n\u001b[0;32m    413\u001b[0m \u001b[39mif\u001b[39;00m n_features \u001b[39m!=\u001b[39m \u001b[39mself\u001b[39m\u001b[39m.\u001b[39mn_features_in_:\n\u001b[1;32m--> 414\u001b[0m     \u001b[39mraise\u001b[39;00m \u001b[39mValueError\u001b[39;00m(\n\u001b[0;32m    415\u001b[0m         \u001b[39mf\u001b[39m\u001b[39m\"\u001b[39m\u001b[39mX has \u001b[39m\u001b[39m{\u001b[39;00mn_features\u001b[39m}\u001b[39;00m\u001b[39m features, but \u001b[39m\u001b[39m{\u001b[39;00m\u001b[39mself\u001b[39m\u001b[39m.\u001b[39m\u001b[39m__class__\u001b[39m\u001b[39m.\u001b[39m\u001b[39m__name__\u001b[39m\u001b[39m}\u001b[39;00m\u001b[39m \u001b[39m\u001b[39m\"\u001b[39m\n\u001b[0;32m    416\u001b[0m         \u001b[39mf\u001b[39m\u001b[39m\"\u001b[39m\u001b[39mis expecting \u001b[39m\u001b[39m{\u001b[39;00m\u001b[39mself\u001b[39m\u001b[39m.\u001b[39mn_features_in_\u001b[39m}\u001b[39;00m\u001b[39m features as input.\u001b[39m\u001b[39m\"\u001b[39m\n\u001b[0;32m    417\u001b[0m     )\n",
      "\u001b[1;31mValueError\u001b[0m: X has 4 features, but MultinomialNB is expecting 104870 features as input."
     ]
    }
   ],
   "source": [
    "new_words = '진짜 별로다 사이즈 큼'\n",
    "new_words_vectorized = vectorizer.transform([new_words])\n",
    "y_pred_2 = model.predict(new_words_vectorized)\n",
    "\n",
    "y_pred_2"
   ]
  },
  {
   "cell_type": "code",
   "execution_count": 45,
   "metadata": {},
   "outputs": [
    {
     "ename": "AttributeError",
     "evalue": "'Series' object has no attribute 'append'",
     "output_type": "error",
     "traceback": [
      "\u001b[1;31m---------------------------------------------------------------------------\u001b[0m",
      "\u001b[1;31mAttributeError\u001b[0m                            Traceback (most recent call last)",
      "\u001b[1;32m~\\AppData\\Local\\Temp\\ipykernel_19128\\3493373147.py\u001b[0m in \u001b[0;36m?\u001b[1;34m()\u001b[0m\n\u001b[1;32m----> 3\u001b[1;33m \u001b[0mnew_words\u001b[0m \u001b[1;33m=\u001b[0m \u001b[1;34m'진짜 별로다 사이즈 큼'\u001b[0m\u001b[1;33m\u001b[0m\u001b[1;33m\u001b[0m\u001b[0m\n\u001b[0m\u001b[0;32m      4\u001b[0m \u001b[1;33m\u001b[0m\u001b[0m\n\u001b[0;32m      5\u001b[0m \u001b[0mX_train_new\u001b[0m \u001b[1;33m=\u001b[0m \u001b[0mX_test\u001b[0m\u001b[1;33m[\u001b[0m\u001b[1;34m'RawText'\u001b[0m\u001b[1;33m]\u001b[0m\u001b[1;33m.\u001b[0m\u001b[0mappend\u001b[0m\u001b[1;33m(\u001b[0m\u001b[0mnew_words\u001b[0m\u001b[1;33m)\u001b[0m\u001b[1;33m\u001b[0m\u001b[1;33m\u001b[0m\u001b[0m\n\u001b[0;32m      6\u001b[0m \u001b[1;33m\u001b[0m\u001b[0m\n",
      "\u001b[1;32mc:\\Users\\82108\\miniconda3\\envs\\ds_study\\lib\\site-packages\\pandas\\core\\generic.py\u001b[0m in \u001b[0;36m?\u001b[1;34m(self, name)\u001b[0m\n\u001b[0;32m   5985\u001b[0m             \u001b[1;32mand\u001b[0m \u001b[0mname\u001b[0m \u001b[1;32mnot\u001b[0m \u001b[1;32min\u001b[0m \u001b[0mself\u001b[0m\u001b[1;33m.\u001b[0m\u001b[0m_accessors\u001b[0m\u001b[1;33m\u001b[0m\u001b[1;33m\u001b[0m\u001b[0m\n\u001b[0;32m   5986\u001b[0m             \u001b[1;32mand\u001b[0m \u001b[0mself\u001b[0m\u001b[1;33m.\u001b[0m\u001b[0m_info_axis\u001b[0m\u001b[1;33m.\u001b[0m\u001b[0m_can_hold_identifiers_and_holds_name\u001b[0m\u001b[1;33m(\u001b[0m\u001b[0mname\u001b[0m\u001b[1;33m)\u001b[0m\u001b[1;33m\u001b[0m\u001b[1;33m\u001b[0m\u001b[0m\n\u001b[0;32m   5987\u001b[0m         ):\n\u001b[0;32m   5988\u001b[0m             \u001b[1;32mreturn\u001b[0m \u001b[0mself\u001b[0m\u001b[1;33m[\u001b[0m\u001b[0mname\u001b[0m\u001b[1;33m]\u001b[0m\u001b[1;33m\u001b[0m\u001b[1;33m\u001b[0m\u001b[0m\n\u001b[1;32m-> 5989\u001b[1;33m         \u001b[1;32mreturn\u001b[0m \u001b[0mobject\u001b[0m\u001b[1;33m.\u001b[0m\u001b[0m__getattribute__\u001b[0m\u001b[1;33m(\u001b[0m\u001b[0mself\u001b[0m\u001b[1;33m,\u001b[0m \u001b[0mname\u001b[0m\u001b[1;33m)\u001b[0m\u001b[1;33m\u001b[0m\u001b[1;33m\u001b[0m\u001b[0m\n\u001b[0m",
      "\u001b[1;31mAttributeError\u001b[0m: 'Series' object has no attribute 'append'"
     ]
    }
   ],
   "source": [
    "new_words = '진짜 별로다 사이즈 큼'\n",
    "\n",
    "X_train_new = X_test['RawText'].append(new_words)\n",
    "\n",
    "# 새로운 문장을 기존에 사용한 벡터화기로 변환\n",
    "new_words_vectorized = vectorizer.transform([new_words])\n",
    "\n",
    "# 모델을 다시 훈련\n",
    "model.fit(X_train_vectorized_new, y_train)\n",
    "\n",
    "# 새로운 문장에 대해 예측\n",
    "y_pred_2 = model.predict(new_words_vectorized)\n",
    "\n",
    "print(y_pred_2)"
   ]
  },
  {
   "cell_type": "code",
   "execution_count": null,
   "metadata": {},
   "outputs": [],
   "source": []
  }
 ],
 "metadata": {
  "kernelspec": {
   "display_name": "ds_study",
   "language": "python",
   "name": "python3"
  },
  "language_info": {
   "codemirror_mode": {
    "name": "ipython",
    "version": 3
   },
   "file_extension": ".py",
   "mimetype": "text/x-python",
   "name": "python",
   "nbconvert_exporter": "python",
   "pygments_lexer": "ipython3",
   "version": "3.8.18"
  },
  "orig_nbformat": 4
 },
 "nbformat": 4,
 "nbformat_minor": 2
}

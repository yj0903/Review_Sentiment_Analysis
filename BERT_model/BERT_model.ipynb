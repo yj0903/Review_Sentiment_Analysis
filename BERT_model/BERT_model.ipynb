{
 "cells": [
  {
   "cell_type": "raw",
   "metadata": {},
   "source": [
    "pip install konlpy"
   ]
  },
  {
   "cell_type": "raw",
   "metadata": {},
   "source": [
    "pip install nltk"
   ]
  },
  {
   "cell_type": "code",
   "execution_count": null,
   "metadata": {},
   "outputs": [],
   "source": []
  },
  {
   "cell_type": "code",
   "execution_count": 1,
   "metadata": {},
   "outputs": [],
   "source": [
    "import pandas as pd\n",
    "from sklearn.model_selection import train_test_split\n",
    "from sklearn.feature_extraction.text import CountVectorizer\n",
    "from sklearn.naive_bayes import MultinomialNB\n",
    "from sklearn.metrics import accuracy_score, classification_report\n",
    "from konlpy.tag import Okt\n",
    "import nltk\n",
    "from sklearn.linear_model import LogisticRegression\n",
    "import re"
   ]
  },
  {
   "cell_type": "code",
   "execution_count": 2,
   "metadata": {},
   "outputs": [],
   "source": [
    "df_fashion = pd.read_csv(\"../data/01. 패션.csv\", encoding='utf-8', sep=\",\")\n",
    "df_cosmetic = pd.read_csv(\"../data/02. 화장품.csv\", encoding='utf-8', sep=\",\")\n",
    "df_appliance = pd.read_csv(\"../data/03. 가전.csv\", encoding='utf-8', sep=\",\")\n",
    "df_it = pd.read_csv(\"../data/04. IT기기.csv\", encoding='utf-8', sep=\",\")"
   ]
  },
  {
   "cell_type": "markdown",
   "metadata": {},
   "source": [
    "# IT"
   ]
  },
  {
   "cell_type": "code",
   "execution_count": 3,
   "metadata": {},
   "outputs": [
    {
     "data": {
      "text/html": [
       "<div>\n",
       "<style scoped>\n",
       "    .dataframe tbody tr th:only-of-type {\n",
       "        vertical-align: middle;\n",
       "    }\n",
       "\n",
       "    .dataframe tbody tr th {\n",
       "        vertical-align: top;\n",
       "    }\n",
       "\n",
       "    .dataframe thead th {\n",
       "        text-align: right;\n",
       "    }\n",
       "</style>\n",
       "<table border=\"1\" class=\"dataframe\">\n",
       "  <thead>\n",
       "    <tr style=\"text-align: right;\">\n",
       "      <th></th>\n",
       "      <th>Index</th>\n",
       "      <th>RawText</th>\n",
       "      <th>Source</th>\n",
       "      <th>Domain</th>\n",
       "      <th>MainCategory</th>\n",
       "      <th>ProductName</th>\n",
       "      <th>ReviewScore</th>\n",
       "      <th>Syllable</th>\n",
       "      <th>Word</th>\n",
       "      <th>RDate</th>\n",
       "      <th>Aspects</th>\n",
       "      <th>GeneralPolarity</th>\n",
       "    </tr>\n",
       "  </thead>\n",
       "  <tbody>\n",
       "    <tr>\n",
       "      <th>0</th>\n",
       "      <td>3761</td>\n",
       "      <td>제품 만족합니다. 디자인이 깔끔하고 멋스럽네요. 배송도 빠르고 좋아요.^^ 생각보다...</td>\n",
       "      <td>SNS</td>\n",
       "      <td>IT기기</td>\n",
       "      <td>컴퓨터/주변기기</td>\n",
       "      <td>펠로우즈 레더렛 메모리폼 손목받침대 (91825)</td>\n",
       "      <td>100</td>\n",
       "      <td>90</td>\n",
       "      <td>18</td>\n",
       "      <td>20220304</td>\n",
       "      <td>[{'Aspect': '디자인', 'SentimentText': '디자인이 깔끔하고...</td>\n",
       "      <td>NaN</td>\n",
       "    </tr>\n",
       "    <tr>\n",
       "      <th>1</th>\n",
       "      <td>3762</td>\n",
       "      <td>가격대비! 좋아요! 음량도 크고! 구매하세요</td>\n",
       "      <td>SNS</td>\n",
       "      <td>IT기기</td>\n",
       "      <td>컴퓨터/주변기기</td>\n",
       "      <td>[엠피지오]소나보스/사운드바 스피커/PC스피커/컴퓨터스피커/2채널/USB전원</td>\n",
       "      <td>80</td>\n",
       "      <td>24</td>\n",
       "      <td>5</td>\n",
       "      <td>20210826</td>\n",
       "      <td>[{'Aspect': '가격', 'SentimentText': '가격대비! 좋아요!...</td>\n",
       "      <td>1.0</td>\n",
       "    </tr>\n",
       "    <tr>\n",
       "      <th>2</th>\n",
       "      <td>3763</td>\n",
       "      <td>화질도 괜찮고 타사 제품에 비해 길이가 1M정도 더 길어서 좋아요</td>\n",
       "      <td>SNS</td>\n",
       "      <td>IT기기</td>\n",
       "      <td>컴퓨터/주변기기</td>\n",
       "      <td>플레오맥스 PM-MC1000 C타입 to HDMI 미러링케이블 4K UHD 유료미디...</td>\n",
       "      <td>100</td>\n",
       "      <td>36</td>\n",
       "      <td>10</td>\n",
       "      <td>20210330</td>\n",
       "      <td>[{'Aspect': '화질', 'SentimentText': '화질도 괜찮고 ',...</td>\n",
       "      <td>1.0</td>\n",
       "    </tr>\n",
       "    <tr>\n",
       "      <th>3</th>\n",
       "      <td>3764</td>\n",
       "      <td>입학축하선물로 노트북 뭘 살지 이것저것 다 찾아보다가, 결국 OOOO 22형으로 주...</td>\n",
       "      <td>SNS</td>\n",
       "      <td>IT기기</td>\n",
       "      <td>컴퓨터/주변기기</td>\n",
       "      <td>[22년 신모델]  LG그램 15Z95P-GA5LK (i5-1155G7/16GB/...</td>\n",
       "      <td>100</td>\n",
       "      <td>165</td>\n",
       "      <td>30</td>\n",
       "      <td>20220205</td>\n",
       "      <td>[{'Aspect': '제조일/제조사', 'SentimentText': '역시 명불...</td>\n",
       "      <td>NaN</td>\n",
       "    </tr>\n",
       "    <tr>\n",
       "      <th>4</th>\n",
       "      <td>3765</td>\n",
       "      <td>생각보다 상당히 빨리 받았네요. OO에서 직접 배송해주는거라 설치 기사가 직접 배송...</td>\n",
       "      <td>SNS</td>\n",
       "      <td>IT기기</td>\n",
       "      <td>컴퓨터/주변기기</td>\n",
       "      <td>(1TB 외장하드 패키지)삼성직배송/설치 고성능 프리미엄 노트북 Pen NT 930...</td>\n",
       "      <td>100</td>\n",
       "      <td>214</td>\n",
       "      <td>50</td>\n",
       "      <td>20180107</td>\n",
       "      <td>[{'Aspect': '기능', 'SentimentText': '성능 또한 상당히 ...</td>\n",
       "      <td>0.0</td>\n",
       "    </tr>\n",
       "  </tbody>\n",
       "</table>\n",
       "</div>"
      ],
      "text/plain": [
       "   Index                                            RawText Source Domain  \\\n",
       "0   3761  제품 만족합니다. 디자인이 깔끔하고 멋스럽네요. 배송도 빠르고 좋아요.^^ 생각보다...    SNS   IT기기   \n",
       "1   3762                           가격대비! 좋아요! 음량도 크고! 구매하세요    SNS   IT기기   \n",
       "2   3763               화질도 괜찮고 타사 제품에 비해 길이가 1M정도 더 길어서 좋아요    SNS   IT기기   \n",
       "3   3764  입학축하선물로 노트북 뭘 살지 이것저것 다 찾아보다가, 결국 OOOO 22형으로 주...    SNS   IT기기   \n",
       "4   3765  생각보다 상당히 빨리 받았네요. OO에서 직접 배송해주는거라 설치 기사가 직접 배송...    SNS   IT기기   \n",
       "\n",
       "  MainCategory                                        ProductName  \\\n",
       "0     컴퓨터/주변기기                        펠로우즈 레더렛 메모리폼 손목받침대 (91825)   \n",
       "1     컴퓨터/주변기기         [엠피지오]소나보스/사운드바 스피커/PC스피커/컴퓨터스피커/2채널/USB전원   \n",
       "2     컴퓨터/주변기기  플레오맥스 PM-MC1000 C타입 to HDMI 미러링케이블 4K UHD 유료미디...   \n",
       "3     컴퓨터/주변기기   [22년 신모델]  LG그램 15Z95P-GA5LK (i5-1155G7/16GB/...   \n",
       "4     컴퓨터/주변기기  (1TB 외장하드 패키지)삼성직배송/설치 고성능 프리미엄 노트북 Pen NT 930...   \n",
       "\n",
       "   ReviewScore  Syllable  Word     RDate  \\\n",
       "0          100        90    18  20220304   \n",
       "1           80        24     5  20210826   \n",
       "2          100        36    10  20210330   \n",
       "3          100       165    30  20220205   \n",
       "4          100       214    50  20180107   \n",
       "\n",
       "                                             Aspects  GeneralPolarity  \n",
       "0  [{'Aspect': '디자인', 'SentimentText': '디자인이 깔끔하고...              NaN  \n",
       "1  [{'Aspect': '가격', 'SentimentText': '가격대비! 좋아요!...              1.0  \n",
       "2  [{'Aspect': '화질', 'SentimentText': '화질도 괜찮고 ',...              1.0  \n",
       "3  [{'Aspect': '제조일/제조사', 'SentimentText': '역시 명불...              NaN  \n",
       "4  [{'Aspect': '기능', 'SentimentText': '성능 또한 상당히 ...              0.0  "
      ]
     },
     "execution_count": 3,
     "metadata": {},
     "output_type": "execute_result"
    }
   ],
   "source": [
    "df = df_it\n",
    "df.head()"
   ]
  },
  {
   "cell_type": "markdown",
   "metadata": {},
   "source": []
  },
  {
   "cell_type": "code",
   "execution_count": null,
   "metadata": {},
   "outputs": [],
   "source": []
  },
  {
   "cell_type": "markdown",
   "metadata": {},
   "source": [
    "### label 은 평점 기준으로 긍정이면 1, 부정이면 0으로 라벨링 지정\n",
    "\n",
    "#### 학습용 데이터로 가공\n",
    "- 평점 8 이상 혹은 3 이하만 저장 (8 이상: 긍정적, 3 이하: 부정적)\n",
    "- 각 text를 tokenize한 후, 동사, 형용사, 명사만 저장 (konlpy의 Okt 사용)"
   ]
  },
  {
   "cell_type": "code",
   "execution_count": 4,
   "metadata": {},
   "outputs": [],
   "source": [
    "df['label'] = 0"
   ]
  },
  {
   "cell_type": "code",
   "execution_count": 5,
   "metadata": {},
   "outputs": [],
   "source": [
    "#ReviewScore 80, 4 이상 긍정적, 50이하, 2이하 부정적으로 지정\n",
    "\n",
    "def tokenize_korean_text(text): \n",
    "  text_filtered = re.sub('[^,.?!\\w\\s]','', text)\n",
    "\n",
    "  okt = Okt() \n",
    "  Okt_morphs = okt.pos(text_filtered) \n",
    "\n",
    "  words = []\n",
    "  for word, pos in Okt_morphs:\n",
    "    if pos == 'Adjective' or pos == 'Verb' or pos == 'Noun':\n",
    "      words.append(word)\n",
    "\n",
    "  words_str = ' '.join(words)\n",
    "  return words_str"
   ]
  },
  {
   "cell_type": "markdown",
   "metadata": {},
   "source": [
    "## 데이터전처리 \n",
    "- 점수 기준 긍/부정"
   ]
  },
  {
   "cell_type": "code",
   "execution_count": 6,
   "metadata": {},
   "outputs": [],
   "source": [
    "df['Score_change'] = df['ReviewScore'].replace({100:5,90:4.5,80:4.0,70:3.5,60:3.0,50:2.5,40:2.0,30:1.5,20:1.0,10:0.5,0:0})"
   ]
  },
  {
   "cell_type": "code",
   "execution_count": 7,
   "metadata": {},
   "outputs": [],
   "source": [
    "# df['label'] == 0\n",
    "# 긍부정 나누는 label 생성, 점수 3 이상 긍정 3 미만 부정 / 점수 70이상 긍정 그 미만 부정 \n",
    "df['label'] = df['Score_change'].apply(lambda x: 1 if x > 3.5 else 0)"
   ]
  },
  {
   "cell_type": "code",
   "execution_count": 8,
   "metadata": {},
   "outputs": [
    {
     "data": {
      "text/html": [
       "<div>\n",
       "<style scoped>\n",
       "    .dataframe tbody tr th:only-of-type {\n",
       "        vertical-align: middle;\n",
       "    }\n",
       "\n",
       "    .dataframe tbody tr th {\n",
       "        vertical-align: top;\n",
       "    }\n",
       "\n",
       "    .dataframe thead th {\n",
       "        text-align: right;\n",
       "    }\n",
       "</style>\n",
       "<table border=\"1\" class=\"dataframe\">\n",
       "  <thead>\n",
       "    <tr style=\"text-align: right;\">\n",
       "      <th></th>\n",
       "      <th>Index</th>\n",
       "      <th>RawText</th>\n",
       "      <th>Source</th>\n",
       "      <th>Domain</th>\n",
       "      <th>MainCategory</th>\n",
       "      <th>ProductName</th>\n",
       "      <th>ReviewScore</th>\n",
       "      <th>Syllable</th>\n",
       "      <th>Word</th>\n",
       "      <th>RDate</th>\n",
       "      <th>Aspects</th>\n",
       "      <th>GeneralPolarity</th>\n",
       "      <th>label</th>\n",
       "      <th>Score_change</th>\n",
       "    </tr>\n",
       "  </thead>\n",
       "  <tbody>\n",
       "    <tr>\n",
       "      <th>0</th>\n",
       "      <td>3761</td>\n",
       "      <td>제품 만족합니다. 디자인이 깔끔하고 멋스럽네요. 배송도 빠르고 좋아요.^^ 생각보다...</td>\n",
       "      <td>SNS</td>\n",
       "      <td>IT기기</td>\n",
       "      <td>컴퓨터/주변기기</td>\n",
       "      <td>펠로우즈 레더렛 메모리폼 손목받침대 (91825)</td>\n",
       "      <td>100</td>\n",
       "      <td>90</td>\n",
       "      <td>18</td>\n",
       "      <td>20220304</td>\n",
       "      <td>[{'Aspect': '디자인', 'SentimentText': '디자인이 깔끔하고...</td>\n",
       "      <td>NaN</td>\n",
       "      <td>1</td>\n",
       "      <td>5.0</td>\n",
       "    </tr>\n",
       "    <tr>\n",
       "      <th>1</th>\n",
       "      <td>3762</td>\n",
       "      <td>가격대비! 좋아요! 음량도 크고! 구매하세요</td>\n",
       "      <td>SNS</td>\n",
       "      <td>IT기기</td>\n",
       "      <td>컴퓨터/주변기기</td>\n",
       "      <td>[엠피지오]소나보스/사운드바 스피커/PC스피커/컴퓨터스피커/2채널/USB전원</td>\n",
       "      <td>80</td>\n",
       "      <td>24</td>\n",
       "      <td>5</td>\n",
       "      <td>20210826</td>\n",
       "      <td>[{'Aspect': '가격', 'SentimentText': '가격대비! 좋아요!...</td>\n",
       "      <td>1.0</td>\n",
       "      <td>1</td>\n",
       "      <td>4.0</td>\n",
       "    </tr>\n",
       "    <tr>\n",
       "      <th>2</th>\n",
       "      <td>3763</td>\n",
       "      <td>화질도 괜찮고 타사 제품에 비해 길이가 1M정도 더 길어서 좋아요</td>\n",
       "      <td>SNS</td>\n",
       "      <td>IT기기</td>\n",
       "      <td>컴퓨터/주변기기</td>\n",
       "      <td>플레오맥스 PM-MC1000 C타입 to HDMI 미러링케이블 4K UHD 유료미디...</td>\n",
       "      <td>100</td>\n",
       "      <td>36</td>\n",
       "      <td>10</td>\n",
       "      <td>20210330</td>\n",
       "      <td>[{'Aspect': '화질', 'SentimentText': '화질도 괜찮고 ',...</td>\n",
       "      <td>1.0</td>\n",
       "      <td>1</td>\n",
       "      <td>5.0</td>\n",
       "    </tr>\n",
       "    <tr>\n",
       "      <th>3</th>\n",
       "      <td>3764</td>\n",
       "      <td>입학축하선물로 노트북 뭘 살지 이것저것 다 찾아보다가, 결국 OOOO 22형으로 주...</td>\n",
       "      <td>SNS</td>\n",
       "      <td>IT기기</td>\n",
       "      <td>컴퓨터/주변기기</td>\n",
       "      <td>[22년 신모델]  LG그램 15Z95P-GA5LK (i5-1155G7/16GB/...</td>\n",
       "      <td>100</td>\n",
       "      <td>165</td>\n",
       "      <td>30</td>\n",
       "      <td>20220205</td>\n",
       "      <td>[{'Aspect': '제조일/제조사', 'SentimentText': '역시 명불...</td>\n",
       "      <td>NaN</td>\n",
       "      <td>1</td>\n",
       "      <td>5.0</td>\n",
       "    </tr>\n",
       "    <tr>\n",
       "      <th>4</th>\n",
       "      <td>3765</td>\n",
       "      <td>생각보다 상당히 빨리 받았네요. OO에서 직접 배송해주는거라 설치 기사가 직접 배송...</td>\n",
       "      <td>SNS</td>\n",
       "      <td>IT기기</td>\n",
       "      <td>컴퓨터/주변기기</td>\n",
       "      <td>(1TB 외장하드 패키지)삼성직배송/설치 고성능 프리미엄 노트북 Pen NT 930...</td>\n",
       "      <td>100</td>\n",
       "      <td>214</td>\n",
       "      <td>50</td>\n",
       "      <td>20180107</td>\n",
       "      <td>[{'Aspect': '기능', 'SentimentText': '성능 또한 상당히 ...</td>\n",
       "      <td>0.0</td>\n",
       "      <td>1</td>\n",
       "      <td>5.0</td>\n",
       "    </tr>\n",
       "  </tbody>\n",
       "</table>\n",
       "</div>"
      ],
      "text/plain": [
       "   Index                                            RawText Source Domain  \\\n",
       "0   3761  제품 만족합니다. 디자인이 깔끔하고 멋스럽네요. 배송도 빠르고 좋아요.^^ 생각보다...    SNS   IT기기   \n",
       "1   3762                           가격대비! 좋아요! 음량도 크고! 구매하세요    SNS   IT기기   \n",
       "2   3763               화질도 괜찮고 타사 제품에 비해 길이가 1M정도 더 길어서 좋아요    SNS   IT기기   \n",
       "3   3764  입학축하선물로 노트북 뭘 살지 이것저것 다 찾아보다가, 결국 OOOO 22형으로 주...    SNS   IT기기   \n",
       "4   3765  생각보다 상당히 빨리 받았네요. OO에서 직접 배송해주는거라 설치 기사가 직접 배송...    SNS   IT기기   \n",
       "\n",
       "  MainCategory                                        ProductName  \\\n",
       "0     컴퓨터/주변기기                        펠로우즈 레더렛 메모리폼 손목받침대 (91825)   \n",
       "1     컴퓨터/주변기기         [엠피지오]소나보스/사운드바 스피커/PC스피커/컴퓨터스피커/2채널/USB전원   \n",
       "2     컴퓨터/주변기기  플레오맥스 PM-MC1000 C타입 to HDMI 미러링케이블 4K UHD 유료미디...   \n",
       "3     컴퓨터/주변기기   [22년 신모델]  LG그램 15Z95P-GA5LK (i5-1155G7/16GB/...   \n",
       "4     컴퓨터/주변기기  (1TB 외장하드 패키지)삼성직배송/설치 고성능 프리미엄 노트북 Pen NT 930...   \n",
       "\n",
       "   ReviewScore  Syllable  Word     RDate  \\\n",
       "0          100        90    18  20220304   \n",
       "1           80        24     5  20210826   \n",
       "2          100        36    10  20210330   \n",
       "3          100       165    30  20220205   \n",
       "4          100       214    50  20180107   \n",
       "\n",
       "                                             Aspects  GeneralPolarity  label  \\\n",
       "0  [{'Aspect': '디자인', 'SentimentText': '디자인이 깔끔하고...              NaN      1   \n",
       "1  [{'Aspect': '가격', 'SentimentText': '가격대비! 좋아요!...              1.0      1   \n",
       "2  [{'Aspect': '화질', 'SentimentText': '화질도 괜찮고 ',...              1.0      1   \n",
       "3  [{'Aspect': '제조일/제조사', 'SentimentText': '역시 명불...              NaN      1   \n",
       "4  [{'Aspect': '기능', 'SentimentText': '성능 또한 상당히 ...              0.0      1   \n",
       "\n",
       "   Score_change  \n",
       "0           5.0  \n",
       "1           4.0  \n",
       "2           5.0  \n",
       "3           5.0  \n",
       "4           5.0  "
      ]
     },
     "execution_count": 8,
     "metadata": {},
     "output_type": "execute_result"
    }
   ],
   "source": [
    "df.head()"
   ]
  },
  {
   "cell_type": "code",
   "execution_count": 10,
   "metadata": {},
   "outputs": [],
   "source": [
    "X_texts = []\n",
    "y = []\n",
    "\n",
    "for Score_change, RawText in zip(df['Score_change'], df['RawText']):\n",
    "  tokenized_comment = tokenize_korean_text(RawText)  # 위에서 만들었던 함수로 comment 쪼개기\n",
    "  X_texts.append(tokenized_comment)\n",
    "  y.append(1 if Score_change > 3.5 else 0)"
   ]
  },
  {
   "cell_type": "code",
   "execution_count": 11,
   "metadata": {},
   "outputs": [
    {
     "name": "stdout",
     "output_type": "stream",
     "text": [
      "원래 text 수: 41357\n",
      "평점 4이상 텍스트 수: 41357\n"
     ]
    }
   ],
   "source": [
    "print(f'원래 text 수: {len(df)}')\n",
    "print(f'평점 4이상 텍스트 수: {len(X_texts)}')    "
   ]
  },
  {
   "cell_type": "code",
   "execution_count": 12,
   "metadata": {},
   "outputs": [
    {
     "data": {
      "text/html": [
       "<div>\n",
       "<style scoped>\n",
       "    .dataframe tbody tr th:only-of-type {\n",
       "        vertical-align: middle;\n",
       "    }\n",
       "\n",
       "    .dataframe tbody tr th {\n",
       "        vertical-align: top;\n",
       "    }\n",
       "\n",
       "    .dataframe thead th {\n",
       "        text-align: right;\n",
       "    }\n",
       "</style>\n",
       "<table border=\"1\" class=\"dataframe\">\n",
       "  <thead>\n",
       "    <tr style=\"text-align: right;\">\n",
       "      <th></th>\n",
       "      <th>Index</th>\n",
       "      <th>RawText</th>\n",
       "      <th>Source</th>\n",
       "      <th>Domain</th>\n",
       "      <th>MainCategory</th>\n",
       "      <th>ProductName</th>\n",
       "      <th>ReviewScore</th>\n",
       "      <th>Syllable</th>\n",
       "      <th>Word</th>\n",
       "      <th>RDate</th>\n",
       "      <th>Aspects</th>\n",
       "      <th>GeneralPolarity</th>\n",
       "      <th>label</th>\n",
       "      <th>Score_change</th>\n",
       "    </tr>\n",
       "  </thead>\n",
       "  <tbody>\n",
       "    <tr>\n",
       "      <th>0</th>\n",
       "      <td>3761</td>\n",
       "      <td>제품 만족합니다. 디자인이 깔끔하고 멋스럽네요. 배송도 빠르고 좋아요.^^ 생각보다...</td>\n",
       "      <td>SNS</td>\n",
       "      <td>IT기기</td>\n",
       "      <td>컴퓨터/주변기기</td>\n",
       "      <td>펠로우즈 레더렛 메모리폼 손목받침대 (91825)</td>\n",
       "      <td>100</td>\n",
       "      <td>90</td>\n",
       "      <td>18</td>\n",
       "      <td>20220304</td>\n",
       "      <td>[{'Aspect': '디자인', 'SentimentText': '디자인이 깔끔하고...</td>\n",
       "      <td>NaN</td>\n",
       "      <td>1</td>\n",
       "      <td>5.0</td>\n",
       "    </tr>\n",
       "  </tbody>\n",
       "</table>\n",
       "</div>"
      ],
      "text/plain": [
       "   Index                                            RawText Source Domain  \\\n",
       "0   3761  제품 만족합니다. 디자인이 깔끔하고 멋스럽네요. 배송도 빠르고 좋아요.^^ 생각보다...    SNS   IT기기   \n",
       "\n",
       "  MainCategory                  ProductName  ReviewScore  Syllable  Word  \\\n",
       "0     컴퓨터/주변기기  펠로우즈 레더렛 메모리폼 손목받침대 (91825)          100        90    18   \n",
       "\n",
       "      RDate                                            Aspects  \\\n",
       "0  20220304  [{'Aspect': '디자인', 'SentimentText': '디자인이 깔끔하고...   \n",
       "\n",
       "   GeneralPolarity  label  Score_change  \n",
       "0              NaN      1           5.0  "
      ]
     },
     "execution_count": 12,
     "metadata": {},
     "output_type": "execute_result"
    }
   ],
   "source": [
    "df.head(1)"
   ]
  },
  {
   "cell_type": "code",
   "execution_count": 13,
   "metadata": {},
   "outputs": [
    {
     "data": {
      "image/png": "[encoded data removed]",
      "text/plain": [
       "<Figure size 800x600 with 1 Axes>"
      ]
     },
     "metadata": {},
     "output_type": "display_data"
    }
   ],
   "source": [
    "import pandas as pd\n",
    "import seaborn as sns\n",
    "import matplotlib.pyplot as plt\n",
    "\n",
    "plt.figure(figsize=(8, 6))\n",
    "sns.countplot(x='label', data=df)\n",
    "plt.title('negative: 0, positive: 1')\n",
    "plt.xlabel('label')\n",
    "plt.ylabel('Count')\n",
    "plt.show()"
   ]
  },
  {
   "cell_type": "code",
   "execution_count": 14,
   "metadata": {},
   "outputs": [],
   "source": [
    "# train_test_split\n",
    "X_train_texts, X_test_texts, y_train, y_test = train_test_split(X_texts, y, test_size=0.2, random_state=0)"
   ]
  },
  {
   "cell_type": "code",
   "execution_count": 15,
   "metadata": {},
   "outputs": [],
   "source": [
    "# CountVectorizer로 vector화\n",
    "tf_vectorizer = CountVectorizer(min_df=1, ngram_range=(1,1))\n",
    "X_train_tf = tf_vectorizer.fit_transform(X_train_texts)  # training data에 맞게 fit & training data를 transform\n",
    "X_test_tf = tf_vectorizer.transform(X_test_texts) # test data를 transform\n",
    "\n",
    "vocablist = [word for word, number in sorted(tf_vectorizer.vocabulary_.items(), key=lambda x:x[1])]  # 단어들을 번호 기준 내림차순으로 저장"
   ]
  },
  {
   "cell_type": "code",
   "execution_count": 16,
   "metadata": {},
   "outputs": [
    {
     "name": "stdout",
     "output_type": "stream",
     "text": [
      "  (0, 11360)\t1\n",
      "  (0, 21535)\t1\n",
      "  (0, 6419)\t1\n",
      "  (0, 22981)\t1\n",
      "  (0, 23212)\t1\n",
      "  (0, 8941)\t1\n",
      "  (0, 15590)\t1\n",
      "  (0, 17059)\t1\n",
      "  (0, 4749)\t1 \n",
      "\n",
      "  (0, 5913)\t1\n",
      "  (0, 5932)\t1\n",
      "  (0, 6928)\t1\n",
      "  (0, 7285)\t1\n",
      "  (0, 10136)\t1\n",
      "  (0, 11862)\t1\n",
      "  (0, 13637)\t1\n",
      "  (0, 16812)\t1\n",
      "  (0, 17017)\t1\n",
      "  (0, 17558)\t1\n",
      "  (0, 17746)\t1 \n",
      "\n",
      "['가가', '가게', '가격']\n"
     ]
    }
   ],
   "source": [
    "## 확인해보기\n",
    "print(X_train_tf[:1], '\\n')\n",
    "print(X_test_tf[:1], '\\n')\n",
    "print(vocablist[:3])"
   ]
  },
  {
   "cell_type": "markdown",
   "metadata": {},
   "source": [
    "## 로지스틱 회귀 모델"
   ]
  },
  {
   "cell_type": "code",
   "execution_count": 17,
   "metadata": {},
   "outputs": [
    {
     "data": {
      "text/html": [
       "<style>#sk-container-id-1 {color: black;}#sk-container-id-1 pre{padding: 0;}#sk-container-id-1 div.sk-toggleable {background-color: white;}#sk-container-id-1 label.sk-toggleable__label {cursor: pointer;display: block;width: 100%;margin-bottom: 0;padding: 0.3em;box-sizing: border-box;text-align: center;}#sk-container-id-1 label.sk-toggleable__label-arrow:before {content: \"▸\";float: left;margin-right: 0.25em;color: #696969;}#sk-container-id-1 label.sk-toggleable__label-arrow:hover:before {color: black;}#sk-container-id-1 div.sk-estimator:hover label.sk-toggleable__label-arrow:before {color: black;}#sk-container-id-1 div.sk-toggleable__content {max-height: 0;max-width: 0;overflow: hidden;text-align: left;background-color: #f0f8ff;}#sk-container-id-1 div.sk-toggleable__content pre {margin: 0.2em;color: black;border-radius: 0.25em;background-color: #f0f8ff;}#sk-container-id-1 input.sk-toggleable__control:checked~div.sk-toggleable__content {max-height: 200px;max-width: 100%;overflow: auto;}#sk-container-id-1 input.sk-toggleable__control:checked~label.sk-toggleable__label-arrow:before {content: \"▾\";}#sk-container-id-1 div.sk-estimator input.sk-toggleable__control:checked~label.sk-toggleable__label {background-color: #d4ebff;}#sk-container-id-1 div.sk-label input.sk-toggleable__control:checked~label.sk-toggleable__label {background-color: #d4ebff;}#sk-container-id-1 input.sk-hidden--visually {border: 0;clip: rect(1px 1px 1px 1px);clip: rect(1px, 1px, 1px, 1px);height: 1px;margin: -1px;overflow: hidden;padding: 0;position: absolute;width: 1px;}#sk-container-id-1 div.sk-estimator {font-family: monospace;background-color: #f0f8ff;border: 1px dotted black;border-radius: 0.25em;box-sizing: border-box;margin-bottom: 0.5em;}#sk-container-id-1 div.sk-estimator:hover {background-color: #d4ebff;}#sk-container-id-1 div.sk-parallel-item::after {content: \"\";width: 100%;border-bottom: 1px solid gray;flex-grow: 1;}#sk-container-id-1 div.sk-label:hover label.sk-toggleable__label {background-color: #d4ebff;}#sk-container-id-1 div.sk-serial::before {content: \"\";position: absolute;border-left: 1px solid gray;box-sizing: border-box;top: 0;bottom: 0;left: 50%;z-index: 0;}#sk-container-id-1 div.sk-serial {display: flex;flex-direction: column;align-items: center;background-color: white;padding-right: 0.2em;padding-left: 0.2em;position: relative;}#sk-container-id-1 div.sk-item {position: relative;z-index: 1;}#sk-container-id-1 div.sk-parallel {display: flex;align-items: stretch;justify-content: center;background-color: white;position: relative;}#sk-container-id-1 div.sk-item::before, #sk-container-id-1 div.sk-parallel-item::before {content: \"\";position: absolute;border-left: 1px solid gray;box-sizing: border-box;top: 0;bottom: 0;left: 50%;z-index: -1;}#sk-container-id-1 div.sk-parallel-item {display: flex;flex-direction: column;z-index: 1;position: relative;background-color: white;}#sk-container-id-1 div.sk-parallel-item:first-child::after {align-self: flex-end;width: 50%;}#sk-container-id-1 div.sk-parallel-item:last-child::after {align-self: flex-start;width: 50%;}#sk-container-id-1 div.sk-parallel-item:only-child::after {width: 0;}#sk-container-id-1 div.sk-dashed-wrapped {border: 1px dashed gray;margin: 0 0.4em 0.5em 0.4em;box-sizing: border-box;padding-bottom: 0.4em;background-color: white;}#sk-container-id-1 div.sk-label label {font-family: monospace;font-weight: bold;display: inline-block;line-height: 1.2em;}#sk-container-id-1 div.sk-label-container {text-align: center;}#sk-container-id-1 div.sk-container {/* jupyter's `normalize.less` sets `[hidden] { display: none; }` but bootstrap.min.css set `[hidden] { display: none !important; }` so we also need the `!important` here to be able to override the default hidden behavior on the sphinx rendered scikit-learn.org. See: https://github.com/scikit-learn/scikit-learn/issues/21755 */display: inline-block !important;position: relative;}#sk-container-id-1 div.sk-text-repr-fallback {display: none;}</style><div id=\"sk-container-id-1\" class=\"sk-top-container\"><div class=\"sk-text-repr-fallback\"><pre>LogisticRegression(C=0.1, random_state=0)</pre><b>In a Jupyter environment, please rerun this cell to show the HTML representation or trust the notebook. <br />On GitHub, the HTML representation is unable to render, please try loading this page with nbviewer.org.</b></div><div class=\"sk-container\" hidden><div class=\"sk-item\"><div class=\"sk-estimator sk-toggleable\"><input class=\"sk-toggleable__control sk-hidden--visually\" id=\"sk-estimator-id-1\" type=\"checkbox\" checked><label for=\"sk-estimator-id-1\" class=\"sk-toggleable__label sk-toggleable__label-arrow\">LogisticRegression</label><div class=\"sk-toggleable__content\"><pre>LogisticRegression(C=0.1, random_state=0)</pre></div></div></div></div></div>"
      ],
      "text/plain": [
       "LogisticRegression(C=0.1, random_state=0)"
      ]
     },
     "execution_count": 17,
     "metadata": {},
     "output_type": "execute_result"
    }
   ],
   "source": [
    "logistic_model = LogisticRegression(C=0.1, penalty='l2', random_state=0)\n",
    "logistic_model.fit(X_train_tf, y_train)  # 학습"
   ]
  },
  {
   "cell_type": "code",
   "execution_count": 18,
   "metadata": {},
   "outputs": [
    {
     "data": {
      "text/html": [
       "<style>#sk-container-id-2 {color: black;}#sk-container-id-2 pre{padding: 0;}#sk-container-id-2 div.sk-toggleable {background-color: white;}#sk-container-id-2 label.sk-toggleable__label {cursor: pointer;display: block;width: 100%;margin-bottom: 0;padding: 0.3em;box-sizing: border-box;text-align: center;}#sk-container-id-2 label.sk-toggleable__label-arrow:before {content: \"▸\";float: left;margin-right: 0.25em;color: #696969;}#sk-container-id-2 label.sk-toggleable__label-arrow:hover:before {color: black;}#sk-container-id-2 div.sk-estimator:hover label.sk-toggleable__label-arrow:before {color: black;}#sk-container-id-2 div.sk-toggleable__content {max-height: 0;max-width: 0;overflow: hidden;text-align: left;background-color: #f0f8ff;}#sk-container-id-2 div.sk-toggleable__content pre {margin: 0.2em;color: black;border-radius: 0.25em;background-color: #f0f8ff;}#sk-container-id-2 input.sk-toggleable__control:checked~div.sk-toggleable__content {max-height: 200px;max-width: 100%;overflow: auto;}#sk-container-id-2 input.sk-toggleable__control:checked~label.sk-toggleable__label-arrow:before {content: \"▾\";}#sk-container-id-2 div.sk-estimator input.sk-toggleable__control:checked~label.sk-toggleable__label {background-color: #d4ebff;}#sk-container-id-2 div.sk-label input.sk-toggleable__control:checked~label.sk-toggleable__label {background-color: #d4ebff;}#sk-container-id-2 input.sk-hidden--visually {border: 0;clip: rect(1px 1px 1px 1px);clip: rect(1px, 1px, 1px, 1px);height: 1px;margin: -1px;overflow: hidden;padding: 0;position: absolute;width: 1px;}#sk-container-id-2 div.sk-estimator {font-family: monospace;background-color: #f0f8ff;border: 1px dotted black;border-radius: 0.25em;box-sizing: border-box;margin-bottom: 0.5em;}#sk-container-id-2 div.sk-estimator:hover {background-color: #d4ebff;}#sk-container-id-2 div.sk-parallel-item::after {content: \"\";width: 100%;border-bottom: 1px solid gray;flex-grow: 1;}#sk-container-id-2 div.sk-label:hover label.sk-toggleable__label {background-color: #d4ebff;}#sk-container-id-2 div.sk-serial::before {content: \"\";position: absolute;border-left: 1px solid gray;box-sizing: border-box;top: 0;bottom: 0;left: 50%;z-index: 0;}#sk-container-id-2 div.sk-serial {display: flex;flex-direction: column;align-items: center;background-color: white;padding-right: 0.2em;padding-left: 0.2em;position: relative;}#sk-container-id-2 div.sk-item {position: relative;z-index: 1;}#sk-container-id-2 div.sk-parallel {display: flex;align-items: stretch;justify-content: center;background-color: white;position: relative;}#sk-container-id-2 div.sk-item::before, #sk-container-id-2 div.sk-parallel-item::before {content: \"\";position: absolute;border-left: 1px solid gray;box-sizing: border-box;top: 0;bottom: 0;left: 50%;z-index: -1;}#sk-container-id-2 div.sk-parallel-item {display: flex;flex-direction: column;z-index: 1;position: relative;background-color: white;}#sk-container-id-2 div.sk-parallel-item:first-child::after {align-self: flex-end;width: 50%;}#sk-container-id-2 div.sk-parallel-item:last-child::after {align-self: flex-start;width: 50%;}#sk-container-id-2 div.sk-parallel-item:only-child::after {width: 0;}#sk-container-id-2 div.sk-dashed-wrapped {border: 1px dashed gray;margin: 0 0.4em 0.5em 0.4em;box-sizing: border-box;padding-bottom: 0.4em;background-color: white;}#sk-container-id-2 div.sk-label label {font-family: monospace;font-weight: bold;display: inline-block;line-height: 1.2em;}#sk-container-id-2 div.sk-label-container {text-align: center;}#sk-container-id-2 div.sk-container {/* jupyter's `normalize.less` sets `[hidden] { display: none; }` but bootstrap.min.css set `[hidden] { display: none !important; }` so we also need the `!important` here to be able to override the default hidden behavior on the sphinx rendered scikit-learn.org. See: https://github.com/scikit-learn/scikit-learn/issues/21755 */display: inline-block !important;position: relative;}#sk-container-id-2 div.sk-text-repr-fallback {display: none;}</style><div id=\"sk-container-id-2\" class=\"sk-top-container\"><div class=\"sk-text-repr-fallback\"><pre>LogisticRegression(C=0.1, random_state=0)</pre><b>In a Jupyter environment, please rerun this cell to show the HTML representation or trust the notebook. <br />On GitHub, the HTML representation is unable to render, please try loading this page with nbviewer.org.</b></div><div class=\"sk-container\" hidden><div class=\"sk-item\"><div class=\"sk-estimator sk-toggleable\"><input class=\"sk-toggleable__control sk-hidden--visually\" id=\"sk-estimator-id-2\" type=\"checkbox\" checked><label for=\"sk-estimator-id-2\" class=\"sk-toggleable__label sk-toggleable__label-arrow\">LogisticRegression</label><div class=\"sk-toggleable__content\"><pre>LogisticRegression(C=0.1, random_state=0)</pre></div></div></div></div></div>"
      ],
      "text/plain": [
       "LogisticRegression(C=0.1, random_state=0)"
      ]
     },
     "execution_count": 18,
     "metadata": {},
     "output_type": "execute_result"
    }
   ],
   "source": [
    "LogisticRegression(C=0.1, class_weight=None, dual=False, fit_intercept=True,\n",
    "                   intercept_scaling=1, l1_ratio=None, max_iter=100,\n",
    "                   multi_class='auto', n_jobs=None, penalty='l2',\n",
    "                   random_state=0, solver='lbfgs', tol=0.0001, verbose=0,\n",
    "                   warm_start=False)"
   ]
  },
  {
   "cell_type": "code",
   "execution_count": 19,
   "metadata": {},
   "outputs": [
    {
     "name": "stdout",
     "output_type": "stream",
     "text": [
      "Misclassified samples: 472 out of 8272\n",
      "Accuracy: 0.9429400386847195\n"
     ]
    }
   ],
   "source": [
    "y_test_pred = logistic_model.predict(X_test_tf)\n",
    "\n",
    "print('Misclassified samples: {} out of {}'.format((y_test_pred != y_test).sum(), len(y_test)))\n",
    "# print('Accuracy: {:.2f}'.format(accuracy_score(y_test, y_test_pred)))  # model.score(X_test_tf, y_test)로 계산해도 됨\n",
    "print(f'Accuracy: {accuracy_score(y_test, y_test_pred)}')\n"
   ]
  },
  {
   "cell_type": "code",
   "execution_count": 20,
   "metadata": {},
   "outputs": [
    {
     "name": "stdout",
     "output_type": "stream",
     "text": [
      "1    8192\n",
      "0      80\n",
      "Name: count, dtype: int64\n"
     ]
    }
   ],
   "source": [
    "y_pred_series = pd.Series(y_test_pred)\n",
    "value_counts = y_pred_series.value_counts()\n",
    "print(value_counts)"
   ]
  },
  {
   "cell_type": "code",
   "execution_count": 21,
   "metadata": {},
   "outputs": [
    {
     "name": "stdout",
     "output_type": "stream",
     "text": [
      "긍정적인 단어 Top 10 (높은 평점과 상관관계가 강한 단어들)\n",
      "최고(0.830)\n",
      "좋아요(0.768)\n",
      "좋습니다(0.766)\n",
      "만족해요(0.743)\n",
      "좋네요(0.726)\n",
      "만족(0.669)\n",
      "만족합니다(0.660)\n",
      "만족스러워요(0.641)\n",
      "감사해요(0.625)\n",
      "감사합니다(0.604)\n",
      "\n",
      "부정적인 단어 Top 10 (낮은 평점과 상관관계가 강한 단어들)\n",
      "화나네요(-0.680)\n",
      "안되서(-0.684)\n",
      "별로(-0.695)\n",
      "불만족(-0.736)\n",
      "비추(-0.753)\n",
      "반품(-0.762)\n",
      "짜증나네요(-0.792)\n",
      "안되고(-0.818)\n",
      "실망(-1.053)\n",
      "최악(-1.086)\n"
     ]
    }
   ],
   "source": [
    "coefficients = logistic_model.coef_.tolist()\n",
    "\n",
    "sorted_coefficients = sorted(enumerate(coefficients[0]), key=lambda x:x[1], reverse=True)\n",
    "# coefficients(계수)가 큰 값부터 내림차순으로 정렬\n",
    "\n",
    "print('긍정적인 단어 Top 10 (높은 평점과 상관관계가 강한 단어들)')\n",
    "for word_num, coef in sorted_coefficients[:10]:\n",
    "  print('{0:}({1:.3f})'.format(vocablist[word_num], coef))\n",
    "\n",
    "print('\\n부정적인 단어 Top 10 (낮은 평점과 상관관계가 강한 단어들)')\n",
    "for word_num, coef in sorted_coefficients[-10:]: \n",
    "  print('{0:}({1:.3f})'.format(vocablist[word_num], coef))"
   ]
  },
  {
   "cell_type": "code",
   "execution_count": 22,
   "metadata": {},
   "outputs": [],
   "source": [
    "# 긍정/부정 테스트용 함수 생성\n",
    "def guess_good_or_bad(model, text):\n",
    "    text_filtered = text.replace('.', '').replace(',', '').replace(\"'\", \"\").replace('·', ' ').replace('=', '')\n",
    "    okt = Okt()  # Corrected line\n",
    "    Okt_morphs = okt.pos(text_filtered)\n",
    "\n",
    "    words = []\n",
    "    for word, pos in Okt_morphs:\n",
    "        if pos == 'Adjective' or pos == 'Verb' or pos == 'Noun':\n",
    "            words.append(word)\n",
    "    words_str = ' '.join(words)\n",
    "\n",
    "    # Assuming you have defined tf_vectorizer and model somewhere in your code\n",
    "    new_text_tf = tf_vectorizer.transform([words_str])\n",
    "    \n",
    "    result = model.predict(new_text_tf)[0]\n",
    "\n",
    "    if result == 1:\n",
    "        print('긍정')\n",
    "    else:\n",
    "        print('부정')"
   ]
  },
  {
   "cell_type": "code",
   "execution_count": 23,
   "metadata": {},
   "outputs": [
    {
     "name": "stdout",
     "output_type": "stream",
     "text": [
      "부정\n"
     ]
    }
   ],
   "source": [
    "guess_good_or_bad(logistic_model, '안되서 화나네요 최악입니다')"
   ]
  },
  {
   "cell_type": "code",
   "execution_count": 24,
   "metadata": {},
   "outputs": [
    {
     "name": "stdout",
     "output_type": "stream",
     "text": [
      "긍정\n"
     ]
    }
   ],
   "source": [
    "guess_good_or_bad(logistic_model, '좋아요 최고')"
   ]
  },
  {
   "cell_type": "markdown",
   "metadata": {},
   "source": [
    "### 모델 저장"
   ]
  },
  {
   "cell_type": "code",
   "execution_count": 25,
   "metadata": {},
   "outputs": [],
   "source": [
    "import joblib"
   ]
  },
  {
   "cell_type": "code",
   "execution_count": 26,
   "metadata": {},
   "outputs": [
    {
     "data": {
      "text/plain": [
       "['vectorizer.joblib']"
      ]
     },
     "execution_count": 26,
     "metadata": {},
     "output_type": "execute_result"
    }
   ],
   "source": [
    "model_filename = 'logistic_model.joblib'\n",
    "vectorizer_filename = 'vectorizer.joblib'\n",
    "joblib.dump(logistic_model, model_filename)\n",
    "joblib.dump(tf_vectorizer, vectorizer_filename)"
   ]
  },
  {
   "cell_type": "markdown",
   "metadata": {},
   "source": [
    "# 나이브베이즈 모델"
   ]
  },
  {
   "cell_type": "code",
   "execution_count": 27,
   "metadata": {},
   "outputs": [],
   "source": [
    "from sklearn.feature_extraction.text import CountVectorizer\n",
    "from sklearn.naive_bayes import MultinomialNB"
   ]
  },
  {
   "cell_type": "code",
   "execution_count": 28,
   "metadata": {},
   "outputs": [
    {
     "name": "stdout",
     "output_type": "stream",
     "text": [
      "Accuracy: 0.940522243713733\n"
     ]
    }
   ],
   "source": [
    "naive_bayes_model = MultinomialNB()\n",
    "naive_bayes_model.fit(X_train_tf, y_train)  # 학습\n",
    "y_test_pred = naive_bayes_model.predict(X_test_tf)\n",
    "print(f'Accuracy: {accuracy_score(y_test, y_test_pred)}')"
   ]
  },
  {
   "cell_type": "code",
   "execution_count": 29,
   "metadata": {},
   "outputs": [
    {
     "name": "stdout",
     "output_type": "stream",
     "text": [
      "1    8052\n",
      "0     220\n",
      "Name: count, dtype: int64\n"
     ]
    }
   ],
   "source": [
    "y_pred_series = pd.Series(y_test_pred)\n",
    "value_counts = y_pred_series.value_counts()\n",
    "print(value_counts)"
   ]
  },
  {
   "cell_type": "code",
   "execution_count": 30,
   "metadata": {},
   "outputs": [
    {
     "name": "stdout",
     "output_type": "stream",
     "text": [
      "긍정적인 단어 Top 10 (높은 평점과 상관관계가 강한 단어들)\n",
      "감사해요: 3.818\n",
      "감사합니다: 3.467\n",
      "다니기: 2.876\n",
      "안심: 2.870\n",
      "편리하고: 2.822\n",
      "꼼꼼하게: 2.690\n",
      "매력: 2.654\n",
      "이쁩니다: 2.639\n",
      "효율: 2.570\n",
      "기뻐요: 2.562\n",
      "\n",
      "부정적인 단어 Top 10 (낮은 평점과 상관관계가 강한 단어들)\n",
      "받지도: -3.652\n",
      "보내라: -3.652\n",
      "빵점: -3.652\n",
      "억지로: -3.652\n",
      "인쇄물: -3.652\n",
      "참조: -3.652\n",
      "못잡고: -3.876\n",
      "성질: -3.876\n",
      "저장장치: -3.876\n",
      "콜센터: -3.876\n"
     ]
    }
   ],
   "source": [
    "# Access feature log probabilities\n",
    "feature_log_probs = naive_bayes_model.feature_log_prob_\n",
    "\n",
    "# Calculate the difference between positive and negative log probabilities\n",
    "log_prob_diff = feature_log_probs[1] - feature_log_probs[0]\n",
    "\n",
    "# Create a list of (word, log_prob_diff) tuples\n",
    "word_log_prob_diff = list(zip(vocablist, log_prob_diff))\n",
    "\n",
    "# Sort the list by log_prob_diff in descending order\n",
    "sorted_word_log_prob_diff = sorted(word_log_prob_diff, key=lambda x: x[1], reverse=True)\n",
    "\n",
    "print('긍정적인 단어 Top 10 (높은 평점과 상관관계가 강한 단어들)')\n",
    "for word, log_prob_diff in sorted_word_log_prob_diff[:10]:\n",
    "    print('{0}: {1:.3f}'.format(word, log_prob_diff))\n",
    "\n",
    "print('\\n부정적인 단어 Top 10 (낮은 평점과 상관관계가 강한 단어들)')\n",
    "for word, log_prob_diff in sorted_word_log_prob_diff[-10:]:\n",
    "    print('{0}: {1:.3f}'.format(word, log_prob_diff))\n"
   ]
  },
  {
   "cell_type": "code",
   "execution_count": 31,
   "metadata": {},
   "outputs": [
    {
     "name": "stdout",
     "output_type": "stream",
     "text": [
      "긍정\n"
     ]
    }
   ],
   "source": [
    "guess_good_or_bad(naive_bayes_model, '좋아요 최고')"
   ]
  },
  {
   "cell_type": "code",
   "execution_count": 32,
   "metadata": {},
   "outputs": [
    {
     "name": "stdout",
     "output_type": "stream",
     "text": [
      "긍정\n"
     ]
    }
   ],
   "source": [
    "guess_good_or_bad(naive_bayes_model, '좋아요 최고')"
   ]
  },
  {
   "cell_type": "code",
   "execution_count": 33,
   "metadata": {},
   "outputs": [
    {
     "data": {
      "text/plain": [
       "['vectorizer.joblib']"
      ]
     },
     "execution_count": 33,
     "metadata": {},
     "output_type": "execute_result"
    }
   ],
   "source": [
    "model_filename = 'naive_bayes_model.joblib'\n",
    "vectorizer_filename = 'vectorizer.joblib'\n",
    "joblib.dump(naive_bayes_model, model_filename)\n",
    "joblib.dump(tf_vectorizer, vectorizer_filename)"
   ]
  },
  {
   "cell_type": "markdown",
   "metadata": {},
   "source": [
    "# BERT model"
   ]
  },
  {
   "cell_type": "raw",
   "metadata": {},
   "source": [
    "pip install tf-keras"
   ]
  },
  {
   "cell_type": "code",
   "execution_count": 34,
   "metadata": {},
   "outputs": [
    {
     "name": "stdout",
     "output_type": "stream",
     "text": [
      "WARNING:tensorflow:From C:\\Users\\wisei\\miniconda3\\Lib\\site-packages\\tf_keras\\src\\losses.py:2976: The name tf.losses.sparse_softmax_cross_entropy is deprecated. Please use tf.compat.v1.losses.sparse_softmax_cross_entropy instead.\n",
      "\n"
     ]
    }
   ],
   "source": [
    "import numpy as np\n",
    "import pandas as pd\n",
    "import tensorflow as tf\n",
    "from transformers import TFBertModel, BertTokenizer\n",
    "import warnings\n",
    "warnings.filterwarnings('ignore')"
   ]
  },
  {
   "cell_type": "markdown",
   "metadata": {},
   "source": [
    "#### 토크나이저를 불러온다 "
   ]
  },
  {
   "cell_type": "code",
   "execution_count": 35,
   "metadata": {},
   "outputs": [],
   "source": [
    "tokenizer = BertTokenizer.from_pretrained('bert-base-uncased')"
   ]
  },
  {
   "cell_type": "code",
   "execution_count": 36,
   "metadata": {},
   "outputs": [
    {
     "data": {
      "text/html": [
       "<div>\n",
       "<style scoped>\n",
       "    .dataframe tbody tr th:only-of-type {\n",
       "        vertical-align: middle;\n",
       "    }\n",
       "\n",
       "    .dataframe tbody tr th {\n",
       "        vertical-align: top;\n",
       "    }\n",
       "\n",
       "    .dataframe thead th {\n",
       "        text-align: right;\n",
       "    }\n",
       "</style>\n",
       "<table border=\"1\" class=\"dataframe\">\n",
       "  <thead>\n",
       "    <tr style=\"text-align: right;\">\n",
       "      <th></th>\n",
       "      <th>Index</th>\n",
       "      <th>RawText</th>\n",
       "      <th>Source</th>\n",
       "      <th>Domain</th>\n",
       "      <th>MainCategory</th>\n",
       "      <th>ProductName</th>\n",
       "      <th>ReviewScore</th>\n",
       "      <th>Syllable</th>\n",
       "      <th>Word</th>\n",
       "      <th>RDate</th>\n",
       "      <th>Aspects</th>\n",
       "      <th>GeneralPolarity</th>\n",
       "      <th>label</th>\n",
       "      <th>Score_change</th>\n",
       "    </tr>\n",
       "  </thead>\n",
       "  <tbody>\n",
       "    <tr>\n",
       "      <th>0</th>\n",
       "      <td>3761</td>\n",
       "      <td>제품 만족합니다. 디자인이 깔끔하고 멋스럽네요. 배송도 빠르고 좋아요.^^ 생각보다...</td>\n",
       "      <td>SNS</td>\n",
       "      <td>IT기기</td>\n",
       "      <td>컴퓨터/주변기기</td>\n",
       "      <td>펠로우즈 레더렛 메모리폼 손목받침대 (91825)</td>\n",
       "      <td>100</td>\n",
       "      <td>90</td>\n",
       "      <td>18</td>\n",
       "      <td>20220304</td>\n",
       "      <td>[{'Aspect': '디자인', 'SentimentText': '디자인이 깔끔하고...</td>\n",
       "      <td>NaN</td>\n",
       "      <td>1</td>\n",
       "      <td>5.0</td>\n",
       "    </tr>\n",
       "  </tbody>\n",
       "</table>\n",
       "</div>"
      ],
      "text/plain": [
       "   Index                                            RawText Source Domain  \\\n",
       "0   3761  제품 만족합니다. 디자인이 깔끔하고 멋스럽네요. 배송도 빠르고 좋아요.^^ 생각보다...    SNS   IT기기   \n",
       "\n",
       "  MainCategory                  ProductName  ReviewScore  Syllable  Word  \\\n",
       "0     컴퓨터/주변기기  펠로우즈 레더렛 메모리폼 손목받침대 (91825)          100        90    18   \n",
       "\n",
       "      RDate                                            Aspects  \\\n",
       "0  20220304  [{'Aspect': '디자인', 'SentimentText': '디자인이 깔끔하고...   \n",
       "\n",
       "   GeneralPolarity  label  Score_change  \n",
       "0              NaN      1           5.0  "
      ]
     },
     "execution_count": 36,
     "metadata": {},
     "output_type": "execute_result"
    }
   ],
   "source": [
    "df.head(1)"
   ]
  },
  {
   "cell_type": "code",
   "execution_count": 37,
   "metadata": {},
   "outputs": [
    {
     "data": {
      "text/plain": [
       "((33085,), (8272,), (33085,), (8272,))"
      ]
     },
     "execution_count": 37,
     "metadata": {},
     "output_type": "execute_result"
    }
   ],
   "source": [
    "# train_test_split\n",
    "X_train_texts, X_test_texts, y_train, y_test = train_test_split(df['RawText'], df['label'], test_size=0.2, random_state=0)\n",
    "\n",
    "# 레이블을 정수형으로 변환\n",
    "y_train = [int(label) for label in y_train]\n",
    "y_test = [int(label) for label in y_test]\n",
    "\n",
    "# 레이블을 넘파이 배열로 변환\n",
    "y_train = np.array(y_train)\n",
    "y_test = np.array(y_test)\n",
    "\n",
    "X_train_texts.shape, X_test_texts.shape, y_train.shape, y_test.shape"
   ]
  },
  {
   "cell_type": "code",
   "execution_count": 38,
   "metadata": {},
   "outputs": [
    {
     "data": {
      "text/plain": [
       "array([0, 1])"
      ]
     },
     "execution_count": 38,
     "metadata": {},
     "output_type": "execute_result"
    }
   ],
   "source": [
    "np.unique(y_train)"
   ]
  },
  {
   "cell_type": "markdown",
   "metadata": {},
   "source": [
    "#### 토큰화"
   ]
  },
  {
   "cell_type": "code",
   "execution_count": 39,
   "metadata": {},
   "outputs": [],
   "source": [
    "def encode(data, tokenizer):\n",
    "    input_ids = []\n",
    "    attention_masks = []\n",
    "    token_type_ids = []\n",
    " \n",
    "    for text in data:\n",
    "        tokenized_text = tokenizer.encode_plus(text,\n",
    "                                            max_length=50,\n",
    "                                            add_special_tokens = True,\n",
    "                                            pad_to_max_length=True,\n",
    "                                            return_attention_mask=True,\n",
    "                                              truncation=True)\n",
    "        \n",
    "        input_ids.append(tokenized_text['input_ids'])\n",
    "        attention_masks.append(tokenized_text['attention_mask'])\n",
    "        token_type_ids.append(tokenized_text['token_type_ids'])\n",
    "    \n",
    "    return input_ids, attention_masks, token_type_ids"
   ]
  },
  {
   "cell_type": "markdown",
   "metadata": {},
   "source": [
    "-  동일하게  encode 함수를 정의해서 토큰화를 실시한다. 여기서는 token_type_ids 정보도 추출하는데, 이는 각 토큰의 문장 임베딩 정보를 포함하고 있다. 여기서는 리뷰가 한개씩 입력되지만, 원래 BERT모델은 두 개의 문장을 입력받기 때문에 동일한 구조로 사용하기 위해서 해당 정보도 추출한다. "
   ]
  },
  {
   "cell_type": "code",
   "execution_count": 40,
   "metadata": {},
   "outputs": [],
   "source": [
    "#학습데이터 토큰화\n",
    "train_input_ids, train_attention_masks, train_token_type_ids = encode(X_train_texts, tokenizer)\n",
    " \n",
    "#테스트데이터 토큰화\n",
    "test_input_ids, test_attention_masks, test_token_type_ids = encode(X_test_texts, tokenizer)"
   ]
  },
  {
   "cell_type": "code",
   "execution_count": 41,
   "metadata": {},
   "outputs": [
    {
     "data": {
      "text/plain": [
       "33085"
      ]
     },
     "execution_count": 41,
     "metadata": {},
     "output_type": "execute_result"
    }
   ],
   "source": [
    "len(train_input_ids)"
   ]
  },
  {
   "cell_type": "code",
   "execution_count": null,
   "metadata": {},
   "outputs": [],
   "source": []
  },
  {
   "cell_type": "markdown",
   "metadata": {},
   "source": [
    "### BERT 모델 입력을 위한 형태로 처리 "
   ]
  },
  {
   "cell_type": "code",
   "execution_count": 42,
   "metadata": {},
   "outputs": [],
   "source": [
    "#딕셔너리 형태로 변환해서 출력 \n",
    "def map_example_to_dict(input_ids, attention_masks, token_type_ids, label):\n",
    "    return {\n",
    "      \"input_ids\": input_ids,\n",
    "      \"token_type_ids\": token_type_ids,\n",
    "      \"attention_mask\": attention_masks,\n",
    "      }, label\n",
    "      \n",
    " #데이터를 BERT에 넣을 수 있는 형태로 변경 \n",
    "def data_encode(input_ids_list, attention_mask_list, token_type_ids_list, label_list):\n",
    "    return tf.data.Dataset.from_tensor_slices((input_ids_list, attention_mask_list, token_type_ids_list, label_list)).map(map_example_to_dict)"
   ]
  },
  {
   "cell_type": "code",
   "execution_count": 43,
   "metadata": {
    "scrolled": true
   },
   "outputs": [],
   "source": [
    "BATCH_SIZE = 32\n",
    " \n",
    "# 학습 데이터셋 생성\n",
    "train_data_encoded = data_encode(train_input_ids, train_attention_masks, train_token_type_ids, y_train).shuffle(10000).batch(BATCH_SIZE)\n",
    " \n",
    "# 테스트 데이터셋 생성\n",
    "test_data_encoded = data_encode(test_input_ids, test_attention_masks, test_token_type_ids, y_test).batch(BATCH_SIZE)"
   ]
  },
  {
   "cell_type": "markdown",
   "metadata": {},
   "source": [
    "### 모델 학습 "
   ]
  },
  {
   "cell_type": "raw",
   "metadata": {},
   "source": [
    "pip install transformers"
   ]
  },
  {
   "cell_type": "code",
   "execution_count": 44,
   "metadata": {},
   "outputs": [
    {
     "name": "stdout",
     "output_type": "stream",
     "text": [
      "WARNING:tensorflow:From C:\\Users\\wisei\\miniconda3\\Lib\\site-packages\\tf_keras\\src\\backend.py:873: The name tf.get_default_graph is deprecated. Please use tf.compat.v1.get_default_graph instead.\n",
      "\n"
     ]
    },
    {
     "name": "stderr",
     "output_type": "stream",
     "text": [
      "Some weights of the PyTorch model were not used when initializing the TF 2.0 model TFBertModel: ['cls.predictions.transform.dense.weight', 'cls.seq_relationship.bias', 'cls.predictions.transform.LayerNorm.bias', 'cls.predictions.bias', 'cls.predictions.transform.LayerNorm.weight', 'cls.seq_relationship.weight', 'cls.predictions.transform.dense.bias']\n",
      "- This IS expected if you are initializing TFBertModel from a PyTorch model trained on another task or with another architecture (e.g. initializing a TFBertForSequenceClassification model from a BertForPreTraining model).\n",
      "- This IS NOT expected if you are initializing TFBertModel from a PyTorch model that you expect to be exactly identical (e.g. initializing a TFBertForSequenceClassification model from a BertForSequenceClassification model).\n",
      "All the weights of TFBertModel were initialized from the PyTorch model.\n",
      "If your task is similar to the task the model of the checkpoint was trained on, you can already use TFBertModel for predictions without further training.\n"
     ]
    }
   ],
   "source": [
    "model = TFBertModel.from_pretrained('bert-base-uncased', output_hidden_states = True)"
   ]
  },
  {
   "cell_type": "code",
   "execution_count": 47,
   "metadata": {},
   "outputs": [
    {
     "name": "stderr",
     "output_type": "stream",
     "text": [
      "All PyTorch model weights were used when initializing TFBertForSequenceClassification.\n",
      "\n",
      "Some weights or buffers of the TF 2.0 model TFBertForSequenceClassification were not initialized from the PyTorch model and are newly initialized: ['classifier.weight', 'classifier.bias']\n",
      "You should probably TRAIN this model on a down-stream task to be able to use it for predictions and inference.\n"
     ]
    }
   ],
   "source": [
    "from transformers import TFBertForSequenceClassification\n",
    "# 모델 정의\n",
    "BERT_model = TFBertForSequenceClassification.from_pretrained(\n",
    "    \"bert-base-uncased\", # Use the 12-layer BERT model, with an uncased vocab.\n",
    "    num_labels = 2, # The number of output labels--2 for binary classification.\n",
    ")"
   ]
  },
  {
   "cell_type": "code",
   "execution_count": null,
   "metadata": {},
   "outputs": [],
   "source": []
  },
  {
   "cell_type": "raw",
   "metadata": {},
   "source": [
    "# 옵티마이저, 손실 함수, 평가 메트릭 설정\n",
    "optimizer = tf.keras.optimizers.Adam(1e-5)\n",
    "loss = tf.keras.losses.SparseCategoricalCrossentropy(from_logits=True)\n",
    "metric = tf.keras.metrics.SparseCategoricalAccuracy('accuracy')\n",
    "BERT_model.compile(optimizer=optimizer, loss=loss, metrics=[metric])\n",
    "\n",
    "# 모델 훈련\n",
    "NUM_EPOCHS = 10\n",
    "history = BERT_model.fit(train_data_encoded, epochs=NUM_EPOCHS, batch_size=BATCH_SIZE, validation_data=test_data_encoded)"
   ]
  },
  {
   "cell_type": "code",
   "execution_count": 48,
   "metadata": {},
   "outputs": [
    {
     "name": "stdout",
     "output_type": "stream",
     "text": [
      "Epoch 1/10\n",
      "1034/1034 [==============================] - 12330s 12s/step - loss: 0.2162 - accuracy: 0.9431 - val_loss: 0.2225 - val_accuracy: 0.9383\n",
      "Epoch 2/10\n",
      "1034/1034 [==============================] - 12001s 12s/step - loss: 0.2027 - accuracy: 0.9448 - val_loss: 0.2246 - val_accuracy: 0.9386\n",
      "Epoch 3/10\n",
      "1034/1034 [==============================] - 12040s 12s/step - loss: 0.1957 - accuracy: 0.9448 - val_loss: 0.2199 - val_accuracy: 0.9383\n",
      "Epoch 4/10\n",
      "1034/1034 [==============================] - 11906s 12s/step - loss: 0.1887 - accuracy: 0.9450 - val_loss: 0.2076 - val_accuracy: 0.9381\n",
      "Epoch 5/10\n",
      "1034/1034 [==============================] - 11927s 12s/step - loss: 0.1799 - accuracy: 0.9448 - val_loss: 0.2065 - val_accuracy: 0.9374\n",
      "Epoch 6/10\n",
      "1034/1034 [==============================] - 11927s 12s/step - loss: 0.1701 - accuracy: 0.9458 - val_loss: 0.2035 - val_accuracy: 0.9382\n",
      "Epoch 7/10\n",
      "1034/1034 [==============================] - 11937s 12s/step - loss: 0.1585 - accuracy: 0.9466 - val_loss: 0.2152 - val_accuracy: 0.9380\n",
      "Epoch 8/10\n",
      "1034/1034 [==============================] - 11936s 12s/step - loss: 0.1463 - accuracy: 0.9493 - val_loss: 0.2270 - val_accuracy: 0.9335\n",
      "Epoch 9/10\n",
      "1034/1034 [==============================] - 11935s 12s/step - loss: 0.1330 - accuracy: 0.9540 - val_loss: 0.2403 - val_accuracy: 0.9322\n",
      "Epoch 10/10\n",
      "1034/1034 [==============================] - 11908s 12s/step - loss: 0.1169 - accuracy: 0.9601 - val_loss: 0.2732 - val_accuracy: 0.9288\n"
     ]
    }
   ],
   "source": [
    "# 올바른 패키지에서 가져온 옵티마이저 사용\n",
    "optimizer = tf.keras.optimizers.Adam(learning_rate=1e-5)\n",
    "loss = tf.keras.losses.SparseCategoricalCrossentropy(from_logits=True)\n",
    "metric = tf.keras.metrics.SparseCategoricalAccuracy('accuracy')\n",
    "BERT_model.compile(optimizer=optimizer, loss=loss, metrics=[metric])\n",
    "\n",
    "# 모델 훈련\n",
    "NUM_EPOCHS = 10\n",
    "history = BERT_model.fit(train_data_encoded, epochs=NUM_EPOCHS, batch_size=BATCH_SIZE, validation_data=test_data_encoded)"
   ]
  },
  {
   "cell_type": "code",
   "execution_count": null,
   "metadata": {},
   "outputs": [],
   "source": []
  },
  {
   "cell_type": "code",
   "execution_count": null,
   "metadata": {},
   "outputs": [
    {
     "name": "stdout",
     "output_type": "stream",
     "text": [
      "INFO:tensorflow:Assets written to: bert_model\\assets\n"
     ]
    },
    {
     "name": "stderr",
     "output_type": "stream",
     "text": [
      "INFO:tensorflow:Assets written to: bert_model\\assets\n"
     ]
    },
    {
     "name": "stdout",
     "output_type": "stream",
     "text": [
      "WARNING:tensorflow:From C:\\Users\\wisei\\miniconda3\\Lib\\site-packages\\tf_keras\\src\\saving\\legacy\\saved_model\\load.py:109: The name tf.gfile.Exists is deprecated. Please use tf.io.gfile.exists instead.\n",
      "\n"
     ]
    },
    {
     "name": "stderr",
     "output_type": "stream",
     "text": [
      "WARNING:tensorflow:From C:\\Users\\wisei\\miniconda3\\Lib\\site-packages\\tf_keras\\src\\saving\\legacy\\saved_model\\load.py:109: The name tf.gfile.Exists is deprecated. Please use tf.io.gfile.exists instead.\n",
      "\n"
     ]
    }
   ],
   "source": [
    "# 모델 저장\n",
    "model.save(\"bert_model\")\n",
    "\n",
    "# 모델 불러오기\n",
    "loaded_model = tf.keras.models.load_model(\"bert_model\")\n"
   ]
  },
  {
   "cell_type": "code",
   "execution_count": null,
   "metadata": {},
   "outputs": [],
   "source": [
    "loaded_model"
   ]
  },
  {
   "cell_type": "code",
   "execution_count": null,
   "metadata": {},
   "outputs": [],
   "source": []
  },
  {
   "cell_type": "markdown",
   "metadata": {
    "jp-MarkdownHeadingCollapsed": true
   },
   "source": [
    "### 결과 확인"
   ]
  },
  {
   "cell_type": "code",
   "execution_count": 49,
   "metadata": {},
   "outputs": [
    {
     "data": {
      "image/png": "[encoded data removed]",
      "text/plain": [
       "<Figure size 640x480 with 1 Axes>"
      ]
     },
     "metadata": {},
     "output_type": "display_data"
    }
   ],
   "source": [
    "import matplotlib.pyplot as plt\n",
    "plt.plot(history.history['loss'])\n",
    "plt.plot(history.history['val_loss'])\n",
    "plt.xlabel('epoch')\n",
    "plt.ylabel('loss')\n",
    "plt.legend(['train','val'])\n",
    "plt.show()"
   ]
  },
  {
   "cell_type": "markdown",
   "metadata": {},
   "source": [
    "### 정확도"
   ]
  },
  {
   "cell_type": "code",
   "execution_count": 50,
   "metadata": {},
   "outputs": [
    {
     "data": {
      "image/png": "[encoded data removed]",
      "text/plain": [
       "<Figure size 640x480 with 1 Axes>"
      ]
     },
     "metadata": {},
     "output_type": "display_data"
    }
   ],
   "source": [
    "#정확도 확인 \n",
    "import matplotlib.pyplot as plt\n",
    "plt.plot(history.history['accuracy'])\n",
    "plt.plot(history.history['val_accuracy'])\n",
    "plt.xlabel('epoch')\n",
    "plt.ylabel('accuracy')\n",
    "plt.legend(['train','val'])\n",
    "plt.show()"
   ]
  },
  {
   "cell_type": "code",
   "execution_count": null,
   "metadata": {},
   "outputs": [],
   "source": [
    "# 출처\n",
    "# https://yeong-jin-data-blog.tistory.com/entry/BERT%EB%A1%9C-%EC%98%81%ED%99%94-%EB%A6%AC%EB%B7%B0-%EA%B0%90%EC%84%B1-%EB%B6%84%EC%84%9D%ED%95%98%EA%B8%B0"
   ]
  },
  {
   "cell_type": "code",
   "execution_count": null,
   "metadata": {},
   "outputs": [],
   "source": []
  },
  {
   "cell_type": "markdown",
   "metadata": {},
   "source": [
    "# BERT model (중지)"
   ]
  },
  {
   "cell_type": "raw",
   "metadata": {},
   "source": [
    "pip install transformers"
   ]
  },
  {
   "cell_type": "raw",
   "metadata": {},
   "source": [
    "pip install keras"
   ]
  },
  {
   "cell_type": "raw",
   "metadata": {},
   "source": [
    "pip install tensorflow"
   ]
  },
  {
   "cell_type": "code",
   "execution_count": 59,
   "metadata": {},
   "outputs": [],
   "source": [
    "# Bert 사용에 필요한 모듈 불러오기\n",
    "import torch\n",
    "\n",
    "from transformers import BertTokenizer\n",
    "from transformers import BertForSequenceClassification, AdamW, Adafactor, BertConfig\n",
    "from transformers import get_linear_schedule_with_warmup\n",
    "from torch.utils.data import TensorDataset, DataLoader, RandomSampler, SequentialSampler\n",
    "from keras.preprocessing.sequence import pad_sequences\n",
    "from sklearn.model_selection import train_test_split\n",
    "\n",
    "import pandas as pd\n",
    "import numpy as np\n",
    "import random\n",
    "import time\n",
    "import datetime"
   ]
  },
  {
   "cell_type": "markdown",
   "metadata": {},
   "source": [
    "BERT는 문장의 앞에 [CLS]를 붙이고, 끝에는 [SEP]을 붙여 처리를 해 주어야한다. 그러므로 반복문 등을 활용하여 처리해 주어야한다."
   ]
  },
  {
   "cell_type": "code",
   "execution_count": 64,
   "metadata": {},
   "outputs": [
    {
     "data": {
      "text/plain": [
       "['색감 표현 떨어져 화질 흐릿 배터리 용량 작아 쓸 때 답답',\n",
       " '미리 문해 잘 받았습니다 디자인 기대했던것 만큼 세련되서 좋아요 배터리 단다고 해서 걱정 했는데 진짜 사용 시간 짧네요 핑골 색상 선택 하길 했어요 고급스러워요',\n",
       " '주변 제품 평이 넘 좋아서 샀는데 다른 제품 비해 확실히 편해서 맘 들어요 모르고 샀는데 받고 보니 키 보드 마우스 셋트 구성 상품 이었네요 구성 최고',\n",
       " '사은 품 받은 케이스 귀여워요 주문 하는 바람 쪼금 더 비싼 가격 산 게 아쉽네요 또 달리다가 멈출 때 삐 소리 나 게 거슬려서 좀 별로 예전 쓰던 제품 좋아요',\n",
       " '화면 선명하게 잘 보입니다 녹화 것 훨 보기 좋아 만족해요 안전 운전 멘트 나오는것도 마음 들어요']"
      ]
     },
     "execution_count": 64,
     "metadata": {},
     "output_type": "execute_result"
    }
   ],
   "source": [
    "X_train_texts[:5]"
   ]
  },
  {
   "cell_type": "code",
   "execution_count": 65,
   "metadata": {},
   "outputs": [
    {
     "data": {
      "text/plain": [
       "[['[CLS] 색감 표현 떨어져 화질 흐릿 배터리 용량 작아 쓸 때 답답 [SEP]'],\n",
       " ['[CLS] 미리 문해 잘 받았습니다 디자인 기대했던것 만큼 세련되서 좋아요 배터리 단다고 해서 걱정 했는데 진짜 사용 시간 짧네요 핑골 색상 선택 하길 했어요 고급스러워요 [SEP]'],\n",
       " ['[CLS] 주변 제품 평이 넘 좋아서 샀는데 다른 제품 비해 확실히 편해서 맘 들어요 모르고 샀는데 받고 보니 키 보드 마우스 셋트 구성 상품 이었네요 구성 최고 [SEP]'],\n",
       " ['[CLS] 사은 품 받은 케이스 귀여워요 주문 하는 바람 쪼금 더 비싼 가격 산 게 아쉽네요 또 달리다가 멈출 때 삐 소리 나 게 거슬려서 좀 별로 예전 쓰던 제품 좋아요 [SEP]'],\n",
       " ['[CLS] 화면 선명하게 잘 보입니다 녹화 것 훨 보기 좋아 만족해요 안전 운전 멘트 나오는것도 마음 들어요 [SEP]']]"
      ]
     },
     "execution_count": 65,
     "metadata": {},
     "output_type": "execute_result"
    }
   ],
   "source": [
    "# BERT에 맞는 Tag 달아주기\n",
    "bert_text = []\n",
    "\n",
    "for i in X_train_texts:\n",
    "  bert = [\"[CLS] \" + str(i) + \" [SEP]\"]\n",
    "  bert_text.append(bert)\n",
    "\n",
    "bert_text[:5]"
   ]
  },
  {
   "cell_type": "markdown",
   "metadata": {},
   "source": [
    "- 이전 단계에서 이미 토큰화된 것을 사용하면 좋겠지만, 위와 같이 CLS 및 SEP 태그를 달아주어야 했기 때문에, 최초의 데이터를 활용했다. 이번에는 Bert multilingual 모델에 있는 tokenizer를 활용하여 토큰화한다."
   ]
  },
  {
   "cell_type": "markdown",
   "metadata": {},
   "source": [
    "### 토큰화"
   ]
  },
  {
   "cell_type": "code",
   "execution_count": 66,
   "metadata": {},
   "outputs": [
    {
     "data": {
      "application/vnd.jupyter.widget-view+json": {
       "model_id": "9163efc60dc04d85a7404e48f00a93f1",
       "version_major": 2,
       "version_minor": 0
      },
      "text/plain": [
       "tokenizer_config.json:   0%|          | 0.00/49.0 [00:00<?, ?B/s]"
      ]
     },
     "metadata": {},
     "output_type": "display_data"
    },
    {
     "name": "stderr",
     "output_type": "stream",
     "text": [
      "C:\\Users\\wisei\\miniconda3\\Lib\\site-packages\\huggingface_hub\\file_download.py:148: UserWarning: `huggingface_hub` cache-system uses symlinks by default to efficiently store duplicated files but your machine does not support them in C:\\Users\\wisei\\.cache\\huggingface\\hub\\models--bert-base-multilingual-cased. Caching files will still work but in a degraded version that might require more space on your disk. This warning can be disabled by setting the `HF_HUB_DISABLE_SYMLINKS_WARNING` environment variable. For more details, see https://huggingface.co/docs/huggingface_hub/how-to-cache#limitations.\n",
      "To support symlinks on Windows, you either need to activate Developer Mode or to run Python as an administrator. In order to see activate developer mode, see this article: https://docs.microsoft.com/en-us/windows/apps/get-started/enable-your-device-for-development\n",
      "  warnings.warn(message)\n"
     ]
    },
    {
     "data": {
      "application/vnd.jupyter.widget-view+json": {
       "model_id": "5826a77604d74fab87da7d1260a45959",
       "version_major": 2,
       "version_minor": 0
      },
      "text/plain": [
       "vocab.txt:   0%|          | 0.00/996k [00:00<?, ?B/s]"
      ]
     },
     "metadata": {},
     "output_type": "display_data"
    },
    {
     "data": {
      "application/vnd.jupyter.widget-view+json": {
       "model_id": "1d392b2f781849b5857d7b79dcda2b14",
       "version_major": 2,
       "version_minor": 0
      },
      "text/plain": [
       "tokenizer.json:   0%|          | 0.00/1.96M [00:00<?, ?B/s]"
      ]
     },
     "metadata": {},
     "output_type": "display_data"
    },
    {
     "data": {
      "application/vnd.jupyter.widget-view+json": {
       "model_id": "348608f169ff40aab85cf64af54a1406",
       "version_major": 2,
       "version_minor": 0
      },
      "text/plain": [
       "config.json:   0%|          | 0.00/625 [00:00<?, ?B/s]"
      ]
     },
     "metadata": {},
     "output_type": "display_data"
    },
    {
     "name": "stdout",
     "output_type": "stream",
     "text": [
      "[['[CLS]', '색', '##감', '표', '##현', '떨', '##어져', '화', '##질', '흐', '##릿', '배', '##터', '##리', '용', '##량', '작', '##아', '쓸', '때', '답', '##답', '[SEP]'], ['[CLS]', '미', '##리', '문', '##해', '잘', '받', '##았', '##습', '##니다', '디', '##자인', '기', '##대', '##했던', '##것', '만', '##큼', '세', '##련', '##되', '##서', '좋', '##아', '##요', '배', '##터', '##리', '단', '##다고', '해', '##서', '걱', '##정', '했', '##는데', '진', '##짜', '사', '##용', '시', '##간', '짧', '##네', '##요', '핑', '##골', '색', '##상', '선', '##택', '하', '##길', '했', '##어', '##요', '고', '##급', '##스', '##러', '##워', '##요', '[SEP]'], ['[CLS]', '주', '##변', '제', '##품', '평', '##이', '넘', '좋', '##아', '##서', '샀', '##는데', '다른', '제', '##품', '비해', '확', '##실', '##히', '편', '##해서', '맘', '들어', '##요', '모', '##르고', '샀', '##는데', '받고', '보', '##니', '키', '보', '##드', '마', '##우스', '셋', '##트', '구', '##성', '상', '##품', '이', '##었', '##네', '##요', '구', '##성', '최고', '[SEP]'], ['[CLS]', '사', '##은', '품', '받은', '케', '##이스', '귀', '##여', '##워', '##요', '주', '##문', '하는', '바', '##람', '[UNK]', '더', '비', '##싼', '가', '##격', '산', '게', '아', '##쉽', '##네', '##요', '또', '달리', '##다가', '멈', '##출', '때', '[UNK]', '소', '##리', '나', '게', '거', '##슬', '##려', '##서', '좀', '별', '##로', '예', '##전', '쓰', '##던', '제', '##품', '좋', '##아', '##요', '[SEP]'], ['[CLS]', '화', '##면', '선', '##명', '##하게', '잘', '보', '##입', '##니다', '녹', '##화', '것', '훨', '보', '##기', '좋', '##아', '만', '##족', '##해', '##요', '안', '##전', '운', '##전', '멘', '##트', '나', '##오는', '##것', '##도', '마', '##음', '들어', '##요', '[SEP]'], ['[CLS]', '알', '##아', '##보', '##고', '비', '##교', '해', '##봤', '##지만', '제', '##품', '가', '##격', '대', '##비', '성', '##능', '좋', '##아', '##요', '문서', '작', '##업', '동', '##영', '##상', '등', '주로', '보', '##기', '충', '##분', '##한', '사', '##양', '요', '[SEP]'], ['[CLS]', '빠', '##른', '배', '##송', '좋', '##고', '불', '##량', '없', '##고', '작', '##동', '되는', '품', '##질', '좋은', '제', '##품', '할', '##인', '행', '##사', '가', '##격', '착', '##하게', '잘', '사', '##서', '만', '##족', '##합', '##니다', '[SEP]'], ['[CLS]', '문', '##후', '바로', '도', '##착', '해', '좋', '##았', '##어', '##요', '음', '##질', '또', '##렷', '##하게', '음', '들', '##려', '좋', '##고', '이', '##정', '가', '##격', '이런', '품', '##질', '정', '##박', '대', '##박', '입', '##니다', '[SEP]'], ['[CLS]', '화', '##면', '크', '##기', '큰', '##게', '좋', '##아', '##서', '샀', '##지만', '역시', '커', '##서', '보고', '##있', '##음', '흐', '##뭇', '##합', '##니다', '색', '##상', '맘', '들어', '##서', '고', '##민', '했', '##어', '##요', '실', '##물', '색', '##상', '더', '예', '##뻐', '##요', '소', '##재', '만', '##졌', '##을', '때', '지', '##문', '묻', '##어', '##나', '##지', '않고', '넘', '좋', '##네', '##요', '속', '##도', '진', '##짜', '빠', '##르', '##네', '##요', '만', '##족', '##스', '##럽', '##습', '##니다', '[SEP]'], ['[CLS]', '라', '##벤', '##더', '색', '##상', '원', '##했', '##는데', '품', '##절', '블', '##랙', '샀', '##어', '##요', '아', '##쉽', '##네', '##요', '카', '##드', '할', '##인', '적', '##립', '##금', '써', '##서', '정', '##가', '싸', '##게', '구', '##입', '해', '##서', '위', '##안', '[UNK]', '가', '##격', '좋', '##아', '##요', '[SEP]']]\n"
     ]
    }
   ],
   "source": [
    "tokenizer = BertTokenizer.from_pretrained('bert-base-multilingual-cased', do_lower_case=False)\n",
    "tokenized_data = []\n",
    "for i in bert_text:\n",
    "  for j in i:\n",
    "    tokens = tokenizer.tokenize(j)\n",
    "    tokenized_data.append(tokens)\n",
    "\n",
    "print(tokenized_data[0:10])"
   ]
  },
  {
   "cell_type": "markdown",
   "metadata": {},
   "source": [
    "- 이전 딥러닝 수업에서 padding이 매우 중요하다고 배웠다. 가장자리에 있는 데이터들이 1번만 사용되는 것을 막기 위해 기존 데이터에 0의 테두리를 두르는 것이다. 이 작업이 BERT 모델을 돌리기 위해서도 필요하다."
   ]
  },
  {
   "cell_type": "code",
   "execution_count": 70,
   "metadata": {},
   "outputs": [
    {
     "name": "stdout",
     "output_type": "stream",
     "text": [
      "[['저'], ['음'], [], ['작'], ['게']]\n"
     ]
    }
   ],
   "source": [
    "tokenized_test_data = []\n",
    "for i in X_test_texts:\n",
    "  for j in i:\n",
    "    tokens = tokenizer.tokenize(j)\n",
    "    tokenized_test_data.append(tokens)\n",
    "\n",
    "print(tokenized_test_data[0:5])"
   ]
  },
  {
   "cell_type": "code",
   "execution_count": 71,
   "metadata": {},
   "outputs": [
    {
     "name": "stdout",
     "output_type": "stream",
     "text": [
      "[101, 9416, 105197, 9934, 30842, 9141, 65164, 9993, 48599, 10015, 118906, 9330, 21876, 12692, 9603, 44321, 9652, 16985, 9513, 9137, 9065, 118775, 102]\n"
     ]
    }
   ],
   "source": [
    "# padding\n",
    "input_ids = []\n",
    "for i in tokenized_data:\n",
    "  ids = tokenizer.convert_tokens_to_ids(i)\n",
    "  input_ids.append(ids)\n",
    "\n",
    "print(input_ids[0])"
   ]
  },
  {
   "cell_type": "code",
   "execution_count": 74,
   "metadata": {},
   "outputs": [
    {
     "name": "stdout",
     "output_type": "stream",
     "text": [
      "[9634]\n"
     ]
    }
   ],
   "source": [
    "input_ids_test = []\n",
    "for i in tokenized_test_data:\n",
    "  ids = tokenizer.convert_tokens_to_ids(i)\n",
    "  input_ids_test.append(ids)\n",
    "\n",
    "print(input_ids_test[1])"
   ]
  },
  {
   "cell_type": "code",
   "execution_count": 75,
   "metadata": {},
   "outputs": [
    {
     "data": {
      "text/plain": [
       "array([   101,   9416, 105197,   9934,  30842,   9141,  65164,   9993,\n",
       "        48599,  10015, 118906,   9330,  21876,  12692,   9603,  44321,\n",
       "         9652,  16985,   9513,   9137,   9065, 118775,    102,      0,\n",
       "            0,      0,      0,      0,      0,      0,      0,      0,\n",
       "            0,      0,      0,      0,      0,      0,      0,      0,\n",
       "            0,      0,      0,      0,      0,      0,      0,      0,\n",
       "            0,      0,      0,      0,      0,      0,      0,      0,\n",
       "            0,      0,      0,      0,      0,      0,      0,      0,\n",
       "            0,      0,      0,      0,      0,      0,      0,      0,\n",
       "            0,      0,      0,      0,      0,      0,      0,      0,\n",
       "            0,      0,      0,      0,      0,      0,      0,      0,\n",
       "            0,      0,      0,      0,      0,      0,      0,      0,\n",
       "            0,      0,      0,      0,      0,      0,      0,      0,\n",
       "            0,      0,      0,      0,      0,      0,      0,      0,\n",
       "            0,      0,      0,      0,      0,      0,      0,      0,\n",
       "            0,      0,      0,      0,      0,      0,      0,      0])"
      ]
     },
     "execution_count": 75,
     "metadata": {},
     "output_type": "execute_result"
    }
   ],
   "source": [
    "max_len = 128\n",
    "input_ids = pad_sequences(input_ids, maxlen=max_len, dtype='long', truncating='post', padding='post')\n",
    "input_ids[0]"
   ]
  },
  {
   "cell_type": "code",
   "execution_count": 76,
   "metadata": {},
   "outputs": [
    {
     "data": {
      "text/plain": [
       "array([9663,    0,    0,    0,    0,    0,    0,    0,    0,    0,    0,\n",
       "          0,    0,    0,    0,    0,    0,    0,    0,    0,    0,    0,\n",
       "          0,    0,    0,    0,    0,    0,    0,    0,    0,    0,    0,\n",
       "          0,    0,    0,    0,    0,    0,    0,    0,    0,    0,    0,\n",
       "          0,    0,    0,    0,    0,    0,    0,    0,    0,    0,    0,\n",
       "          0,    0,    0,    0,    0,    0,    0,    0,    0,    0,    0,\n",
       "          0,    0,    0,    0,    0,    0,    0,    0,    0,    0,    0,\n",
       "          0,    0,    0,    0,    0,    0,    0,    0,    0,    0,    0,\n",
       "          0,    0,    0,    0,    0,    0,    0,    0,    0,    0,    0,\n",
       "          0,    0,    0,    0,    0,    0,    0,    0,    0,    0,    0,\n",
       "          0,    0,    0,    0,    0,    0,    0,    0,    0,    0,    0,\n",
       "          0,    0,    0,    0,    0,    0,    0])"
      ]
     },
     "execution_count": 76,
     "metadata": {},
     "output_type": "execute_result"
    }
   ],
   "source": [
    "input_ids_test = pad_sequences(input_ids_test, maxlen=max_len, dtype='long', truncating='post', padding='post')\n",
    "input_ids_test[0]"
   ]
  },
  {
   "cell_type": "code",
   "execution_count": 77,
   "metadata": {},
   "outputs": [
    {
     "name": "stdout",
     "output_type": "stream",
     "text": [
      "[1.0, 1.0, 1.0, 1.0, 1.0, 1.0, 1.0, 1.0, 1.0, 1.0, 1.0, 1.0, 1.0, 1.0, 1.0, 1.0, 1.0, 1.0, 1.0, 1.0, 1.0, 1.0, 1.0, 0.0, 0.0, 0.0, 0.0, 0.0, 0.0, 0.0, 0.0, 0.0, 0.0, 0.0, 0.0, 0.0, 0.0, 0.0, 0.0, 0.0, 0.0, 0.0, 0.0, 0.0, 0.0, 0.0, 0.0, 0.0, 0.0, 0.0, 0.0, 0.0, 0.0, 0.0, 0.0, 0.0, 0.0, 0.0, 0.0, 0.0, 0.0, 0.0, 0.0, 0.0, 0.0, 0.0, 0.0, 0.0, 0.0, 0.0, 0.0, 0.0, 0.0, 0.0, 0.0, 0.0, 0.0, 0.0, 0.0, 0.0, 0.0, 0.0, 0.0, 0.0, 0.0, 0.0, 0.0, 0.0, 0.0, 0.0, 0.0, 0.0, 0.0, 0.0, 0.0, 0.0, 0.0, 0.0, 0.0, 0.0, 0.0, 0.0, 0.0, 0.0, 0.0, 0.0, 0.0, 0.0, 0.0, 0.0, 0.0, 0.0, 0.0, 0.0, 0.0, 0.0, 0.0, 0.0, 0.0, 0.0, 0.0, 0.0, 0.0, 0.0, 0.0, 0.0, 0.0, 0.0]\n",
      "128\n"
     ]
    }
   ],
   "source": [
    "attention_masks = []\n",
    "\n",
    "for ids in input_ids:\n",
    "  ids_mask = []\n",
    "  for id in ids:\n",
    "      masked = float(id>0)\n",
    "      ids_mask.append(masked)\n",
    "  attention_masks.append(ids_mask)\n",
    "    \n",
    "print(attention_masks[0])\n",
    "print(len(attention_masks[0]))"
   ]
  },
  {
   "cell_type": "code",
   "execution_count": 78,
   "metadata": {},
   "outputs": [
    {
     "name": "stdout",
     "output_type": "stream",
     "text": [
      "[1.0, 0.0, 0.0, 0.0, 0.0, 0.0, 0.0, 0.0, 0.0, 0.0, 0.0, 0.0, 0.0, 0.0, 0.0, 0.0, 0.0, 0.0, 0.0, 0.0, 0.0, 0.0, 0.0, 0.0, 0.0, 0.0, 0.0, 0.0, 0.0, 0.0, 0.0, 0.0, 0.0, 0.0, 0.0, 0.0, 0.0, 0.0, 0.0, 0.0, 0.0, 0.0, 0.0, 0.0, 0.0, 0.0, 0.0, 0.0, 0.0, 0.0, 0.0, 0.0, 0.0, 0.0, 0.0, 0.0, 0.0, 0.0, 0.0, 0.0, 0.0, 0.0, 0.0, 0.0, 0.0, 0.0, 0.0, 0.0, 0.0, 0.0, 0.0, 0.0, 0.0, 0.0, 0.0, 0.0, 0.0, 0.0, 0.0, 0.0, 0.0, 0.0, 0.0, 0.0, 0.0, 0.0, 0.0, 0.0, 0.0, 0.0, 0.0, 0.0, 0.0, 0.0, 0.0, 0.0, 0.0, 0.0, 0.0, 0.0, 0.0, 0.0, 0.0, 0.0, 0.0, 0.0, 0.0, 0.0, 0.0, 0.0, 0.0, 0.0, 0.0, 0.0, 0.0, 0.0, 0.0, 0.0, 0.0, 0.0, 0.0, 0.0, 0.0, 0.0, 0.0, 0.0, 0.0, 0.0]\n",
      "128\n"
     ]
    }
   ],
   "source": [
    "attention_masks_test = []\n",
    "\n",
    "for ids in input_ids_test:\n",
    "  ids_mask = []\n",
    "  for id in ids:\n",
    "      masked = float(id>0)\n",
    "      ids_mask.append(masked)\n",
    "  attention_masks_test.append(ids_mask)\n",
    "    \n",
    "print(attention_masks_test[0])\n",
    "print(len(attention_masks_test[0]))"
   ]
  },
  {
   "cell_type": "code",
   "execution_count": null,
   "metadata": {},
   "outputs": [],
   "source": [
    "X_texts_cos = []\n",
    "y_cos = []\n",
    "\n",
    "for Score_change, RawText in zip(df2['Score_change'], df2['RawText']):\n",
    "  tokenized_comment = tokenize_korean_text_2(RawText)  # 위에서 만들었던 함수로 comment 쪼개기\n",
    "  X_texts_cos.append(tokenized_comment)\n",
    "  y_cos.append(1 if Score_change > 3.5 else 0)"
   ]
  },
  {
   "cell_type": "markdown",
   "metadata": {},
   "source": [
    "- 모델링을 위해서는 train 데이터와 validation 데이터를 분리해야한다. 테스트 데이터는 이미 분리되어있다. 다만 이후 모델의 fine-tuning을 위한 데이터와, 이후 모델링을 위해 tensor로 변환할 데이터를 분리해 주어야한다."
   ]
  },
  {
   "cell_type": "code",
   "execution_count": 81,
   "metadata": {},
   "outputs": [],
   "source": [
    "X_train, X_val, y_train, y_val = train_test_split(\n",
    "    input_ids, y_train, random_state=42, test_size=0.2)\n",
    "\n",
    "train_masks, validation_masks, _, _ = train_test_split(attention_masks, \n",
    "                                                       input_ids,\n",
    "                                                       random_state=42, \n",
    "                                                       test_size=0.2)"
   ]
  },
  {
   "cell_type": "code",
   "execution_count": 84,
   "metadata": {},
   "outputs": [
    {
     "ename": "AttributeError",
     "evalue": "'list' object has no attribute 'shape'",
     "output_type": "error",
     "traceback": [
      "\u001b[1;31m---------------------------------------------------------------------------\u001b[0m",
      "\u001b[1;31mAttributeError\u001b[0m                            Traceback (most recent call last)",
      "Cell \u001b[1;32mIn[84], line 1\u001b[0m\n\u001b[1;32m----> 1\u001b[0m X_train\u001b[38;5;241m.\u001b[39mshape, X_val\u001b[38;5;241m.\u001b[39mshape, y_train\u001b[38;5;241m.\u001b[39mshape, y_val\u001b[38;5;241m.\u001b[39mshape\n",
      "\u001b[1;31mAttributeError\u001b[0m: 'list' object has no attribute 'shape'"
     ]
    }
   ],
   "source": [
    "X_train.shape, X_val.shape, y_train.shape, y_val.shape"
   ]
  },
  {
   "cell_type": "code",
   "execution_count": 85,
   "metadata": {},
   "outputs": [
    {
     "data": {
      "text/plain": [
       "((26468, 128), (6617, 128))"
      ]
     },
     "execution_count": 85,
     "metadata": {},
     "output_type": "execute_result"
    }
   ],
   "source": [
    "X_train.shape, X_val.shape"
   ]
  },
  {
   "cell_type": "code",
   "execution_count": 88,
   "metadata": {},
   "outputs": [
    {
     "data": {
      "text/plain": [
       "(26468,)"
      ]
     },
     "execution_count": 88,
     "metadata": {},
     "output_type": "execute_result"
    }
   ],
   "source": [
    "a = np.array(y_train)\n",
    "a.shape"
   ]
  },
  {
   "cell_type": "code",
   "execution_count": null,
   "metadata": {},
   "outputs": [],
   "source": [
    "y_train.shape, y_val.shape"
   ]
  },
  {
   "cell_type": "code",
   "execution_count": null,
   "metadata": {},
   "outputs": [],
   "source": [
    "# Fine-tuning과 Tensor로 사용할 데이터를 분리\n",
    "X_train_tune = X_train\n",
    "y_train_tune = y_train\n",
    "X_val_tune = X_val\n",
    "y_val_tune = y_val"
   ]
  },
  {
   "cell_type": "code",
   "execution_count": null,
   "metadata": {},
   "outputs": [],
   "source": [
    "X_test_tensor = input_ids_test\n",
    "y_test_tensor = test_data[\"label\"].values\n",
    "test_masks = attention_masks_test"
   ]
  },
  {
   "cell_type": "markdown",
   "metadata": {},
   "source": [
    "- 다음으로 input_ids, 타깃 라벨, masking을 PyTorch로 변환해야한다."
   ]
  },
  {
   "cell_type": "code",
   "execution_count": null,
   "metadata": {},
   "outputs": [],
   "source": [
    "cos_data_tf = tf_vectorizer.transform(X_texts_cos)"
   ]
  },
  {
   "cell_type": "code",
   "execution_count": null,
   "metadata": {},
   "outputs": [],
   "source": [
    "cos_data_predictions = model.predict(cos_data_tf)"
   ]
  },
  {
   "cell_type": "code",
   "execution_count": null,
   "metadata": {},
   "outputs": [],
   "source": [
    "for text, prediction in zip(X_texts_cos, cos_data_predictions):\n",
    "    sentiment = \"Positive\" if prediction == 1 else \"Negative\"\n",
    "    print(f'Text: \"{text}\", Predicted Sentiment: {sentiment}')"
   ]
  },
  {
   "cell_type": "code",
   "execution_count": null,
   "metadata": {},
   "outputs": [],
   "source": [
    "from sklearn.metrics import accuracy_score"
   ]
  },
  {
   "cell_type": "code",
   "execution_count": null,
   "metadata": {},
   "outputs": [],
   "source": [
    "cos_data_accuracy = accuracy_score(y_cos, cos_data_predictions)\n",
    "print(f'Accuracy on new data: {cos_data_accuracy}')"
   ]
  },
  {
   "cell_type": "code",
   "execution_count": null,
   "metadata": {},
   "outputs": [],
   "source": [
    "import pandas as pd\n",
    "import seaborn as sns\n",
    "import matplotlib.pyplot as plt\n",
    "\n",
    "plt.figure(figsize=(8, 6))\n",
    "sns.countplot(x='label', data=df2)\n",
    "plt.title('negative: 0, positive: 1')\n",
    "plt.xlabel('label')\n",
    "plt.ylabel('Count')\n",
    "plt.show()"
   ]
  },
  {
   "cell_type": "code",
   "execution_count": null,
   "metadata": {},
   "outputs": [],
   "source": [
    "# PyTorch로 변환\n",
    "\n",
    "X_train_tensor = torch.tensor(X_train)\n",
    "y_train_tensor = torch.tensor(y_train)\n",
    "train_masks = torch.tensor(train_masks)\n",
    "X_val_tensor = torch.tensor(X_val)\n",
    "y_val_tensor = torch.tensor(y_val)\n",
    "validation_masks = torch.tensor(validation_masks)"
   ]
  },
  {
   "cell_type": "code",
   "execution_count": null,
   "metadata": {},
   "outputs": [],
   "source": [
    "X_test_tensor = torch.tensor(X_test_tensor)\n",
    "y_test_tensor = torch.tensor(y_test_tensor)\n",
    "test_masks = torch.tensor(attention_masks_test)"
   ]
  },
  {
   "cell_type": "markdown",
   "metadata": {},
   "source": [
    "- 이번에는 배치 사이즈를 지정한다. 주로 큰 사이즈를 설정해보고, VRAM 에러 메시지가 난다면, 더 작은 사이즈로 줄여나간다. 8의 배수로 설정하는 것이 일반적이다. 한 블로그를 참조[2]해보니, 32일 때 가장 좋은 성능이 나왔다고 한다. 그래서 이를 batch_size의 값으로 설정했다."
   ]
  },
  {
   "cell_type": "code",
   "execution_count": null,
   "metadata": {},
   "outputs": [],
   "source": [
    "batch_size = 32\n",
    "\n",
    "train = TensorDataset(X_train_tensor, train_masks, y_train_tensor)\n",
    "train_sampler = RandomSampler(train)\n",
    "\n",
    "val = TensorDataset(X_val_tensor, validation_masks, y_val_tensor)\n",
    "val_sampler = SequentialSampler(val)\n",
    "\n",
    "\n",
    "test = TensorDataset(X_test_tensor, test_masks, y_test_tensor)\n",
    "test_sampler = RandomSampler(test)\n",
    "\n",
    "train_dataloader = DataLoader(train, sampler=train_sampler, batch_size=batch_size)\n",
    "val_dataloader = DataLoader(val, sampler=val_sampler, batch_size=batch_size)\n",
    "test_dataloader = DataLoader(test, sampler=test_sampler, batch_size=batch_size)"
   ]
  },
  {
   "cell_type": "code",
   "execution_count": null,
   "metadata": {},
   "outputs": [],
   "source": []
  },
  {
   "cell_type": "code",
   "execution_count": null,
   "metadata": {},
   "outputs": [],
   "source": []
  },
  {
   "cell_type": "code",
   "execution_count": null,
   "metadata": {},
   "outputs": [],
   "source": []
  }
 ],
 "metadata": {
  "kernelspec": {
   "display_name": "Python 3 (ipykernel)",
   "language": "python",
   "name": "python3"
  },
  "language_info": {
   "codemirror_mode": {
    "name": "ipython",
    "version": 3
   },
   "file_extension": ".py",
   "mimetype": "text/x-python",
   "name": "python",
   "nbconvert_exporter": "python",
   "pygments_lexer": "ipython3",
   "version": "3.11.5"
  }
 },
 "nbformat": 4,
 "nbformat_minor": 4
}

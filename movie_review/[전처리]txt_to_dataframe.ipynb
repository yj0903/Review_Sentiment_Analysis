{
 "cells": [
  {
   "cell_type": "code",
   "execution_count": 2,
   "id": "8384565d",
   "metadata": {},
   "outputs": [
    {
     "name": "stdout",
     "output_type": "stream",
     "text": [
      "         id                                           document  label\n",
      "0   8112052                                어릴때보고 지금다시봐도 재밌어요ㅋㅋ      1\n",
      "1   8132799  디자인을 배우는 학생으로, 외국디자이너와 그들이 일군 전통을 통해 발전해가는 문화산...      1\n",
      "2   4655635               폴리스스토리 시리즈는 1부터 뉴까지 버릴께 하나도 없음.. 최고.      1\n",
      "3   9251303  와.. 연기가 진짜 개쩔구나.. 지루할거라고 생각했는데 몰입해서 봤다.. 그래 이런...      1\n",
      "4  10067386                        안개 자욱한 밤하늘에 떠 있는 초승달 같은 영화.      1\n"
     ]
    }
   ],
   "source": [
    "import pandas as pd\n",
    "\n",
    "# 파일 경로 설정\n",
    "file_path = \"ratings.txt\"\n",
    "\n",
    "# 텍스트 파일을 데이터프레임으로 변환\n",
    "try:\n",
    "    # 파일을 데이터프레임으로 읽기\n",
    "    df = pd.read_csv(file_path, delimiter='\\t')  # 만약 구분자가 다르다면 delimiter를 해당 값으로 변경\n",
    "    # 또는\n",
    "    # df = pd.read_table(file_path)  # 구분자가 탭('\\t')인 경우 read_table 함수도 사용 가능\n",
    "\n",
    "    # 데이터프레임 내용 출력\n",
    "    print(df.head())\n",
    "except FileNotFoundError:\n",
    "    print(f\"파일 '{file_path}'을 찾을 수 없습니다.\")\n",
    "except pd.errors.EmptyDataError:\n",
    "    print(f\"파일 '{file_path}'은(는) 비어 있습니다.\")\n",
    "except pd.errors.ParserError:\n",
    "    print(f\"파일 '{file_path}'을(를) 파싱하는 중에 오류가 발생했습니다.\")\n"
   ]
  },
  {
   "cell_type": "code",
   "execution_count": 6,
   "id": "15ae8584",
   "metadata": {},
   "outputs": [
    {
     "data": {
      "text/html": [
       "<div>\n",
       "<style scoped>\n",
       "    .dataframe tbody tr th:only-of-type {\n",
       "        vertical-align: middle;\n",
       "    }\n",
       "\n",
       "    .dataframe tbody tr th {\n",
       "        vertical-align: top;\n",
       "    }\n",
       "\n",
       "    .dataframe thead th {\n",
       "        text-align: right;\n",
       "    }\n",
       "</style>\n",
       "<table border=\"1\" class=\"dataframe\">\n",
       "  <thead>\n",
       "    <tr style=\"text-align: right;\">\n",
       "      <th></th>\n",
       "      <th>id</th>\n",
       "      <th>document</th>\n",
       "      <th>label</th>\n",
       "    </tr>\n",
       "  </thead>\n",
       "  <tbody>\n",
       "    <tr>\n",
       "      <th>199999</th>\n",
       "      <td>8548411</td>\n",
       "      <td>포풍저그가나가신다영차영차영차</td>\n",
       "      <td>0</td>\n",
       "    </tr>\n",
       "    <tr>\n",
       "      <th>133327</th>\n",
       "      <td>6594162</td>\n",
       "      <td>이거보고재밋다고한혹우잇는가?</td>\n",
       "      <td>0</td>\n",
       "    </tr>\n",
       "    <tr>\n",
       "      <th>133328</th>\n",
       "      <td>4875727</td>\n",
       "      <td>예술영화의 전형 지루한 전개 쓸때없는 롱테이크 급결말 그리고 자칭매니아들의 별점</td>\n",
       "      <td>0</td>\n",
       "    </tr>\n",
       "    <tr>\n",
       "      <th>133329</th>\n",
       "      <td>3540327</td>\n",
       "      <td>템포가 느리는 건 좋다만 리듬감은 갖추고 있어야지.. 흐름도 자연스럽지 않고..</td>\n",
       "      <td>0</td>\n",
       "    </tr>\n",
       "    <tr>\n",
       "      <th>133330</th>\n",
       "      <td>9735024</td>\n",
       "      <td>홍상수 영화3편 봤는데 다 지루하기짝이없고 재미도 없고 억지로 본듯 내취향은 독립영...</td>\n",
       "      <td>0</td>\n",
       "    </tr>\n",
       "    <tr>\n",
       "      <th>...</th>\n",
       "      <td>...</td>\n",
       "      <td>...</td>\n",
       "      <td>...</td>\n",
       "    </tr>\n",
       "    <tr>\n",
       "      <th>66669</th>\n",
       "      <td>9389916</td>\n",
       "      <td>너무 사랑스럽쟈냐~~~~ &gt;&lt;</td>\n",
       "      <td>1</td>\n",
       "    </tr>\n",
       "    <tr>\n",
       "      <th>66670</th>\n",
       "      <td>9900089</td>\n",
       "      <td>재밋네요ㅋㅋㅋ 생각보다 재밋게봄</td>\n",
       "      <td>1</td>\n",
       "    </tr>\n",
       "    <tr>\n",
       "      <th>66671</th>\n",
       "      <td>4804329</td>\n",
       "      <td>이 정도면 전 만족 합니다요.</td>\n",
       "      <td>1</td>\n",
       "    </tr>\n",
       "    <tr>\n",
       "      <th>66649</th>\n",
       "      <td>7789463</td>\n",
       "      <td>이게 바로 타란티노 스타일이다 머더뻐꺼!!! 마더뻐꺼!!! 뻐꺼!!</td>\n",
       "      <td>1</td>\n",
       "    </tr>\n",
       "    <tr>\n",
       "      <th>99999</th>\n",
       "      <td>3206900</td>\n",
       "      <td>파괴지왕에서 장학우 콘서트 티켓을 얻기위한... ㅋ</td>\n",
       "      <td>1</td>\n",
       "    </tr>\n",
       "  </tbody>\n",
       "</table>\n",
       "<p>200000 rows × 3 columns</p>\n",
       "</div>"
      ],
      "text/plain": [
       "             id                                           document  label\n",
       "199999  8548411                                    포풍저그가나가신다영차영차영차      0\n",
       "133327  6594162                                    이거보고재밋다고한혹우잇는가?      0\n",
       "133328  4875727       예술영화의 전형 지루한 전개 쓸때없는 롱테이크 급결말 그리고 자칭매니아들의 별점      0\n",
       "133329  3540327       템포가 느리는 건 좋다만 리듬감은 갖추고 있어야지.. 흐름도 자연스럽지 않고..      0\n",
       "133330  9735024  홍상수 영화3편 봤는데 다 지루하기짝이없고 재미도 없고 억지로 본듯 내취향은 독립영...      0\n",
       "...         ...                                                ...    ...\n",
       "66669   9389916                                   너무 사랑스럽쟈냐~~~~ ><      1\n",
       "66670   9900089                                  재밋네요ㅋㅋㅋ 생각보다 재밋게봄      1\n",
       "66671   4804329                                   이 정도면 전 만족 합니다요.      1\n",
       "66649   7789463              이게 바로 타란티노 스타일이다 머더뻐꺼!!! 마더뻐꺼!!! 뻐꺼!!      1\n",
       "99999   3206900                       파괴지왕에서 장학우 콘서트 티켓을 얻기위한... ㅋ      1\n",
       "\n",
       "[200000 rows x 3 columns]"
      ]
     },
     "execution_count": 6,
     "metadata": {},
     "output_type": "execute_result"
    }
   ],
   "source": [
    "df.sort_values(by='label')"
   ]
  },
  {
   "cell_type": "code",
   "execution_count": null,
   "id": "3a552bdf",
   "metadata": {},
   "outputs": [],
   "source": [
    "# 결과 출력\n",
    "result_df.to_csv('./data/'+name+'.csv', header = True, index = False, encoding='utf-8-sig')"
   ]
  },
  {
   "cell_type": "code",
   "execution_count": null,
   "id": "1da67223",
   "metadata": {},
   "outputs": [],
   "source": []
  },
  {
   "cell_type": "code",
   "execution_count": null,
   "id": "41f65204",
   "metadata": {},
   "outputs": [],
   "source": []
  }
 ],
 "metadata": {
  "kernelspec": {
   "display_name": "Python 3 (ipykernel)",
   "language": "python",
   "name": "python3"
  },
  "language_info": {
   "codemirror_mode": {
    "name": "ipython",
    "version": 3
   },
   "file_extension": ".py",
   "mimetype": "text/x-python",
   "name": "python",
   "nbconvert_exporter": "python",
   "pygments_lexer": "ipython3",
   "version": "3.11.4"
  }
 },
 "nbformat": 4,
 "nbformat_minor": 5
}
